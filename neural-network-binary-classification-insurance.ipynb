{
 "cells": [
  {
   "cell_type": "code",
   "execution_count": 1,
   "id": "b5617f9a",
   "metadata": {
    "_cell_guid": "b1076dfc-b9ad-4769-8c92-a6c4dae69d19",
    "_uuid": "8f2839f25d086af736a60e9eeb907d3b93b6e0e5",
    "execution": {
     "iopub.execute_input": "2024-09-07T00:27:57.882854Z",
     "iopub.status.busy": "2024-09-07T00:27:57.882360Z",
     "iopub.status.idle": "2024-09-07T00:27:58.865465Z",
     "shell.execute_reply": "2024-09-07T00:27:58.864001Z"
    },
    "papermill": {
     "duration": 0.998453,
     "end_time": "2024-09-07T00:27:58.868458",
     "exception": false,
     "start_time": "2024-09-07T00:27:57.870005",
     "status": "completed"
    },
    "tags": []
   },
   "outputs": [
    {
     "name": "stdout",
     "output_type": "stream",
     "text": [
      "/kaggle/input/playground-series-s4e7/sample_submission.csv\n",
      "/kaggle/input/playground-series-s4e7/train.csv\n",
      "/kaggle/input/playground-series-s4e7/test.csv\n"
     ]
    }
   ],
   "source": [
    "# This Python 3 environment comes with many helpful analytics libraries installed\n",
    "# It is defined by the kaggle/python Docker image: https://github.com/kaggle/docker-python\n",
    "# For example, here's several helpful packages to load\n",
    "\n",
    "import numpy as np # linear algebra\n",
    "import pandas as pd # data processing, CSV file I/O (e.g. pd.read_csv)\n",
    "\n",
    "# Input data files are available in the read-only \"../input/\" directory\n",
    "# For example, running this (by clicking run or pressing Shift+Enter) will list all files under the input directory\n",
    "\n",
    "import os\n",
    "for dirname, _, filenames in os.walk('/kaggle/input'):\n",
    "    for filename in filenames:\n",
    "        print(os.path.join(dirname, filename))\n",
    "\n",
    "# You can write up to 20GB to the current directory (/kaggle/working/) that gets preserved as output when you create a version using \"Save & Run All\" \n",
    "# You can also write temporary files to /kaggle/temp/, but they won't be saved outside of the current session"
   ]
  },
  {
   "cell_type": "markdown",
   "id": "1b7f389e",
   "metadata": {
    "papermill": {
     "duration": 0.008991,
     "end_time": "2024-09-07T00:27:58.887156",
     "exception": false,
     "start_time": "2024-09-07T00:27:58.878165",
     "status": "completed"
    },
    "tags": []
   },
   "source": [
    "## Contents\n",
    "1. **Data Overview** <br> _We begin this study by conducting an exploratory analysis of the raw dataset using basic descriptive statistics to get a quick sense of the data._\n",
    "2. **Data Cleaning** <br> _We then proceed to exclude suspicious features and employ a straightforward approach to achieve a balanced target dataset quickly._\n",
    "3. **Significance tests** <br> _Next, we apply non-parametric statistical tests to assess the significance of features, relying on the large training sample to handle the majority of the work._\n",
    "4. **Preprocessing** <br> _Subsequently, essential preprocessing steps are implemented to scale and encode the data into a format suitable for neural network._\n",
    "5. **Deep Learning** <br> _In this section, neural network weights estimation with backpropagation is being conducted._\n",
    "6. **Evaluation** <br> _Visualizing the confusion matrix, plotting the ROC curve to assess its predictive capability, and  metrics calculation._"
   ]
  },
  {
   "cell_type": "markdown",
   "id": "4c462429",
   "metadata": {
    "papermill": {
     "duration": 0.009007,
     "end_time": "2024-09-07T00:27:58.905927",
     "exception": false,
     "start_time": "2024-09-07T00:27:58.896920",
     "status": "completed"
    },
    "tags": []
   },
   "source": [
    "# 1) Data Overview"
   ]
  },
  {
   "cell_type": "markdown",
   "id": "3306f1d4",
   "metadata": {
    "papermill": {
     "duration": 0.00895,
     "end_time": "2024-09-07T00:27:58.924324",
     "exception": false,
     "start_time": "2024-09-07T00:27:58.915374",
     "status": "completed"
    },
    "tags": []
   },
   "source": [
    "Function `columns_info()`, indicating features' basic metadata and descriptive statistics for a given df, is defined in order to facilitate analysis."
   ]
  },
  {
   "cell_type": "code",
   "execution_count": 2,
   "id": "12b88460",
   "metadata": {
    "execution": {
     "iopub.execute_input": "2024-09-07T00:27:58.945183Z",
     "iopub.status.busy": "2024-09-07T00:27:58.944638Z",
     "iopub.status.idle": "2024-09-07T00:27:58.958616Z",
     "shell.execute_reply": "2024-09-07T00:27:58.957532Z"
    },
    "papermill": {
     "duration": 0.027534,
     "end_time": "2024-09-07T00:27:58.961404",
     "exception": false,
     "start_time": "2024-09-07T00:27:58.933870",
     "status": "completed"
    },
    "tags": []
   },
   "outputs": [],
   "source": [
    "def columns_info(df):\n",
    "    # features' basic metadata and descriptive statistics for a given df\n",
    "    feature_info = {\n",
    "        'feature': [],\n",
    "        'dtype': [],\n",
    "        'nunique': [],\n",
    "        'min': [],\n",
    "        '25%': [],\n",
    "        '50%': [],\n",
    "        '75%': [],\n",
    "        'max': [],\n",
    "        'mean': [],\n",
    "        'std_dev': []\n",
    "        }\n",
    "\n",
    "    for col in df.columns:\n",
    "        feature_info['feature'].append(col)\n",
    "        feature_info['dtype'].append(df[col].dtype)\n",
    "        feature_info['nunique'].append(len(df[col].unique()))\n",
    "        if df[col].dtype=='object':\n",
    "            feature_info['min'].append(np.nan)\n",
    "            feature_info['25%'].append(np.nan)\n",
    "            feature_info['50%'].append(np.nan)\n",
    "            feature_info['75%'].append(np.nan)\n",
    "            feature_info['max'].append(np.nan)\n",
    "            feature_info['mean'].append(np.nan)\n",
    "            feature_info['std_dev'].append(np.nan)\n",
    "        else:\n",
    "            feature_info['min'].append(df[col].min())\n",
    "            feature_info['25%'].append(df[col].quantile(0.25))\n",
    "            feature_info['50%'].append(df[col].median())\n",
    "            feature_info['75%'].append(df[col].quantile(0.75))\n",
    "            feature_info['max'].append(df[col].max())\n",
    "            feature_info['mean'].append(df[col].mean())\n",
    "            feature_info['std_dev'].append(df[col].std())\n",
    "\n",
    "    features = pd.DataFrame(feature_info)\n",
    "    features.set_index('feature', inplace=True)\n",
    "    return features"
   ]
  },
  {
   "cell_type": "code",
   "execution_count": 3,
   "id": "c2fd3b33",
   "metadata": {
    "execution": {
     "iopub.execute_input": "2024-09-07T00:27:58.981614Z",
     "iopub.status.busy": "2024-09-07T00:27:58.981187Z",
     "iopub.status.idle": "2024-09-07T00:28:23.665789Z",
     "shell.execute_reply": "2024-09-07T00:28:23.664374Z"
    },
    "papermill": {
     "duration": 24.69804,
     "end_time": "2024-09-07T00:28:23.668731",
     "exception": false,
     "start_time": "2024-09-07T00:27:58.970691",
     "status": "completed"
    },
    "tags": []
   },
   "outputs": [
    {
     "name": "stdout",
     "output_type": "stream",
     "text": [
      "CPU times: user 16.3 s, sys: 3.17 s, total: 19.5 s\n",
      "Wall time: 24.6 s\n"
     ]
    },
    {
     "data": {
      "text/html": [
       "<div>\n",
       "<style scoped>\n",
       "    .dataframe tbody tr th:only-of-type {\n",
       "        vertical-align: middle;\n",
       "    }\n",
       "\n",
       "    .dataframe tbody tr th {\n",
       "        vertical-align: top;\n",
       "    }\n",
       "\n",
       "    .dataframe thead th {\n",
       "        text-align: right;\n",
       "    }\n",
       "</style>\n",
       "<table border=\"1\" class=\"dataframe\">\n",
       "  <thead>\n",
       "    <tr style=\"text-align: right;\">\n",
       "      <th></th>\n",
       "      <th>id</th>\n",
       "      <th>Gender</th>\n",
       "      <th>Age</th>\n",
       "      <th>Driving_License</th>\n",
       "      <th>Region_Code</th>\n",
       "      <th>Previously_Insured</th>\n",
       "      <th>Vehicle_Age</th>\n",
       "      <th>Vehicle_Damage</th>\n",
       "      <th>Annual_Premium</th>\n",
       "      <th>Policy_Sales_Channel</th>\n",
       "      <th>Vintage</th>\n",
       "      <th>Response</th>\n",
       "    </tr>\n",
       "  </thead>\n",
       "  <tbody>\n",
       "    <tr>\n",
       "      <th>0</th>\n",
       "      <td>0</td>\n",
       "      <td>Male</td>\n",
       "      <td>21</td>\n",
       "      <td>1</td>\n",
       "      <td>35.0</td>\n",
       "      <td>0</td>\n",
       "      <td>1-2 Year</td>\n",
       "      <td>Yes</td>\n",
       "      <td>65101.0</td>\n",
       "      <td>124.0</td>\n",
       "      <td>187</td>\n",
       "      <td>0</td>\n",
       "    </tr>\n",
       "    <tr>\n",
       "      <th>1</th>\n",
       "      <td>1</td>\n",
       "      <td>Male</td>\n",
       "      <td>43</td>\n",
       "      <td>1</td>\n",
       "      <td>28.0</td>\n",
       "      <td>0</td>\n",
       "      <td>&gt; 2 Years</td>\n",
       "      <td>Yes</td>\n",
       "      <td>58911.0</td>\n",
       "      <td>26.0</td>\n",
       "      <td>288</td>\n",
       "      <td>1</td>\n",
       "    </tr>\n",
       "    <tr>\n",
       "      <th>2</th>\n",
       "      <td>2</td>\n",
       "      <td>Female</td>\n",
       "      <td>25</td>\n",
       "      <td>1</td>\n",
       "      <td>14.0</td>\n",
       "      <td>1</td>\n",
       "      <td>&lt; 1 Year</td>\n",
       "      <td>No</td>\n",
       "      <td>38043.0</td>\n",
       "      <td>152.0</td>\n",
       "      <td>254</td>\n",
       "      <td>0</td>\n",
       "    </tr>\n",
       "    <tr>\n",
       "      <th>3</th>\n",
       "      <td>3</td>\n",
       "      <td>Female</td>\n",
       "      <td>35</td>\n",
       "      <td>1</td>\n",
       "      <td>1.0</td>\n",
       "      <td>0</td>\n",
       "      <td>1-2 Year</td>\n",
       "      <td>Yes</td>\n",
       "      <td>2630.0</td>\n",
       "      <td>156.0</td>\n",
       "      <td>76</td>\n",
       "      <td>0</td>\n",
       "    </tr>\n",
       "    <tr>\n",
       "      <th>4</th>\n",
       "      <td>4</td>\n",
       "      <td>Female</td>\n",
       "      <td>36</td>\n",
       "      <td>1</td>\n",
       "      <td>15.0</td>\n",
       "      <td>1</td>\n",
       "      <td>1-2 Year</td>\n",
       "      <td>No</td>\n",
       "      <td>31951.0</td>\n",
       "      <td>152.0</td>\n",
       "      <td>294</td>\n",
       "      <td>0</td>\n",
       "    </tr>\n",
       "    <tr>\n",
       "      <th>...</th>\n",
       "      <td>...</td>\n",
       "      <td>...</td>\n",
       "      <td>...</td>\n",
       "      <td>...</td>\n",
       "      <td>...</td>\n",
       "      <td>...</td>\n",
       "      <td>...</td>\n",
       "      <td>...</td>\n",
       "      <td>...</td>\n",
       "      <td>...</td>\n",
       "      <td>...</td>\n",
       "      <td>...</td>\n",
       "    </tr>\n",
       "    <tr>\n",
       "      <th>11504793</th>\n",
       "      <td>11504793</td>\n",
       "      <td>Male</td>\n",
       "      <td>48</td>\n",
       "      <td>1</td>\n",
       "      <td>6.0</td>\n",
       "      <td>0</td>\n",
       "      <td>1-2 Year</td>\n",
       "      <td>Yes</td>\n",
       "      <td>27412.0</td>\n",
       "      <td>26.0</td>\n",
       "      <td>218</td>\n",
       "      <td>0</td>\n",
       "    </tr>\n",
       "    <tr>\n",
       "      <th>11504794</th>\n",
       "      <td>11504794</td>\n",
       "      <td>Female</td>\n",
       "      <td>26</td>\n",
       "      <td>1</td>\n",
       "      <td>36.0</td>\n",
       "      <td>0</td>\n",
       "      <td>&lt; 1 Year</td>\n",
       "      <td>Yes</td>\n",
       "      <td>29509.0</td>\n",
       "      <td>152.0</td>\n",
       "      <td>115</td>\n",
       "      <td>1</td>\n",
       "    </tr>\n",
       "    <tr>\n",
       "      <th>11504795</th>\n",
       "      <td>11504795</td>\n",
       "      <td>Female</td>\n",
       "      <td>29</td>\n",
       "      <td>1</td>\n",
       "      <td>32.0</td>\n",
       "      <td>1</td>\n",
       "      <td>&lt; 1 Year</td>\n",
       "      <td>No</td>\n",
       "      <td>2630.0</td>\n",
       "      <td>152.0</td>\n",
       "      <td>189</td>\n",
       "      <td>0</td>\n",
       "    </tr>\n",
       "    <tr>\n",
       "      <th>11504796</th>\n",
       "      <td>11504796</td>\n",
       "      <td>Female</td>\n",
       "      <td>51</td>\n",
       "      <td>1</td>\n",
       "      <td>28.0</td>\n",
       "      <td>0</td>\n",
       "      <td>1-2 Year</td>\n",
       "      <td>Yes</td>\n",
       "      <td>48443.0</td>\n",
       "      <td>26.0</td>\n",
       "      <td>274</td>\n",
       "      <td>1</td>\n",
       "    </tr>\n",
       "    <tr>\n",
       "      <th>11504797</th>\n",
       "      <td>11504797</td>\n",
       "      <td>Male</td>\n",
       "      <td>25</td>\n",
       "      <td>1</td>\n",
       "      <td>28.0</td>\n",
       "      <td>1</td>\n",
       "      <td>&lt; 1 Year</td>\n",
       "      <td>No</td>\n",
       "      <td>32855.0</td>\n",
       "      <td>152.0</td>\n",
       "      <td>189</td>\n",
       "      <td>0</td>\n",
       "    </tr>\n",
       "  </tbody>\n",
       "</table>\n",
       "<p>11504798 rows × 12 columns</p>\n",
       "</div>"
      ],
      "text/plain": [
       "                id  Gender  Age  Driving_License  Region_Code  \\\n",
       "0                0    Male   21                1         35.0   \n",
       "1                1    Male   43                1         28.0   \n",
       "2                2  Female   25                1         14.0   \n",
       "3                3  Female   35                1          1.0   \n",
       "4                4  Female   36                1         15.0   \n",
       "...            ...     ...  ...              ...          ...   \n",
       "11504793  11504793    Male   48                1          6.0   \n",
       "11504794  11504794  Female   26                1         36.0   \n",
       "11504795  11504795  Female   29                1         32.0   \n",
       "11504796  11504796  Female   51                1         28.0   \n",
       "11504797  11504797    Male   25                1         28.0   \n",
       "\n",
       "          Previously_Insured Vehicle_Age Vehicle_Damage  Annual_Premium  \\\n",
       "0                          0    1-2 Year            Yes         65101.0   \n",
       "1                          0   > 2 Years            Yes         58911.0   \n",
       "2                          1    < 1 Year             No         38043.0   \n",
       "3                          0    1-2 Year            Yes          2630.0   \n",
       "4                          1    1-2 Year             No         31951.0   \n",
       "...                      ...         ...            ...             ...   \n",
       "11504793                   0    1-2 Year            Yes         27412.0   \n",
       "11504794                   0    < 1 Year            Yes         29509.0   \n",
       "11504795                   1    < 1 Year             No          2630.0   \n",
       "11504796                   0    1-2 Year            Yes         48443.0   \n",
       "11504797                   1    < 1 Year             No         32855.0   \n",
       "\n",
       "          Policy_Sales_Channel  Vintage  Response  \n",
       "0                        124.0      187         0  \n",
       "1                         26.0      288         1  \n",
       "2                        152.0      254         0  \n",
       "3                        156.0       76         0  \n",
       "4                        152.0      294         0  \n",
       "...                        ...      ...       ...  \n",
       "11504793                  26.0      218         0  \n",
       "11504794                 152.0      115         1  \n",
       "11504795                 152.0      189         0  \n",
       "11504796                  26.0      274         1  \n",
       "11504797                 152.0      189         0  \n",
       "\n",
       "[11504798 rows x 12 columns]"
      ]
     },
     "execution_count": 3,
     "metadata": {},
     "output_type": "execute_result"
    }
   ],
   "source": [
    "%%time\n",
    "train = pd.read_csv('/kaggle/input/playground-series-s4e7/train.csv')\n",
    "train"
   ]
  },
  {
   "cell_type": "code",
   "execution_count": 4,
   "id": "53291840",
   "metadata": {
    "execution": {
     "iopub.execute_input": "2024-09-07T00:28:23.692199Z",
     "iopub.status.busy": "2024-09-07T00:28:23.691775Z",
     "iopub.status.idle": "2024-09-07T00:28:35.516874Z",
     "shell.execute_reply": "2024-09-07T00:28:35.515584Z"
    },
    "papermill": {
     "duration": 11.840266,
     "end_time": "2024-09-07T00:28:35.519328",
     "exception": false,
     "start_time": "2024-09-07T00:28:23.679062",
     "status": "completed"
    },
    "tags": []
   },
   "outputs": [
    {
     "name": "stdout",
     "output_type": "stream",
     "text": [
      "Number of rows: 11504798\n",
      "Number of columns: 12\n",
      "Data types: {dtype('int64'), dtype('float64'), dtype('O')}\n",
      "Missing values: False\n",
      "Duplicates: 0\n"
     ]
    }
   ],
   "source": [
    "# basic info\n",
    "print(f'Number of rows: {train.shape[0]}')\n",
    "print(f'Number of columns: {train.shape[1]}')\n",
    "print(f'Data types: {set(train.dtypes.values)}')\n",
    "print(f'Missing values: {train.isnull().values.any()}')\n",
    "print(f\"Duplicates: {train.drop(columns='id').duplicated().sum()}\")"
   ]
  },
  {
   "cell_type": "code",
   "execution_count": 5,
   "id": "1557ba5f",
   "metadata": {
    "execution": {
     "iopub.execute_input": "2024-09-07T00:28:35.542169Z",
     "iopub.status.busy": "2024-09-07T00:28:35.541225Z",
     "iopub.status.idle": "2024-09-07T00:28:35.661554Z",
     "shell.execute_reply": "2024-09-07T00:28:35.660448Z"
    },
    "papermill": {
     "duration": 0.13462,
     "end_time": "2024-09-07T00:28:35.664125",
     "exception": false,
     "start_time": "2024-09-07T00:28:35.529505",
     "status": "completed"
    },
    "tags": []
   },
   "outputs": [
    {
     "data": {
      "text/plain": [
       "Response\n",
       "0    0.877003\n",
       "1    0.122997\n",
       "Name: proportion, dtype: float64"
      ]
     },
     "execution_count": 5,
     "metadata": {},
     "output_type": "execute_result"
    }
   ],
   "source": [
    "# imbalanced target variable\n",
    "train.Response.value_counts(normalize=True)"
   ]
  },
  {
   "cell_type": "code",
   "execution_count": 6,
   "id": "e7b02686",
   "metadata": {
    "execution": {
     "iopub.execute_input": "2024-09-07T00:28:35.686402Z",
     "iopub.status.busy": "2024-09-07T00:28:35.685860Z",
     "iopub.status.idle": "2024-09-07T00:28:46.899647Z",
     "shell.execute_reply": "2024-09-07T00:28:46.898396Z"
    },
    "papermill": {
     "duration": 11.228057,
     "end_time": "2024-09-07T00:28:46.902484",
     "exception": false,
     "start_time": "2024-09-07T00:28:35.674427",
     "status": "completed"
    },
    "tags": []
   },
   "outputs": [
    {
     "data": {
      "text/html": [
       "<div>\n",
       "<style scoped>\n",
       "    .dataframe tbody tr th:only-of-type {\n",
       "        vertical-align: middle;\n",
       "    }\n",
       "\n",
       "    .dataframe tbody tr th {\n",
       "        vertical-align: top;\n",
       "    }\n",
       "\n",
       "    .dataframe thead th {\n",
       "        text-align: right;\n",
       "    }\n",
       "</style>\n",
       "<table border=\"1\" class=\"dataframe\">\n",
       "  <thead>\n",
       "    <tr style=\"text-align: right;\">\n",
       "      <th></th>\n",
       "      <th>dtype</th>\n",
       "      <th>nunique</th>\n",
       "      <th>min</th>\n",
       "      <th>25%</th>\n",
       "      <th>50%</th>\n",
       "      <th>75%</th>\n",
       "      <th>max</th>\n",
       "      <th>mean</th>\n",
       "      <th>std_dev</th>\n",
       "    </tr>\n",
       "    <tr>\n",
       "      <th>feature</th>\n",
       "      <th></th>\n",
       "      <th></th>\n",
       "      <th></th>\n",
       "      <th></th>\n",
       "      <th></th>\n",
       "      <th></th>\n",
       "      <th></th>\n",
       "      <th></th>\n",
       "      <th></th>\n",
       "    </tr>\n",
       "  </thead>\n",
       "  <tbody>\n",
       "    <tr>\n",
       "      <th>id</th>\n",
       "      <td>int64</td>\n",
       "      <td>11504798</td>\n",
       "      <td>0.00</td>\n",
       "      <td>2876199.25</td>\n",
       "      <td>5752398.50</td>\n",
       "      <td>8628597.75</td>\n",
       "      <td>11504797.00</td>\n",
       "      <td>5752398.50</td>\n",
       "      <td>3321149.26</td>\n",
       "    </tr>\n",
       "    <tr>\n",
       "      <th>Annual_Premium</th>\n",
       "      <td>float64</td>\n",
       "      <td>51728</td>\n",
       "      <td>2630.00</td>\n",
       "      <td>25277.00</td>\n",
       "      <td>31824.00</td>\n",
       "      <td>39451.00</td>\n",
       "      <td>540165.00</td>\n",
       "      <td>30461.37</td>\n",
       "      <td>16454.75</td>\n",
       "    </tr>\n",
       "    <tr>\n",
       "      <th>Vintage</th>\n",
       "      <td>int64</td>\n",
       "      <td>290</td>\n",
       "      <td>10.00</td>\n",
       "      <td>99.00</td>\n",
       "      <td>166.00</td>\n",
       "      <td>232.00</td>\n",
       "      <td>299.00</td>\n",
       "      <td>163.90</td>\n",
       "      <td>79.98</td>\n",
       "    </tr>\n",
       "    <tr>\n",
       "      <th>Policy_Sales_Channel</th>\n",
       "      <td>float64</td>\n",
       "      <td>152</td>\n",
       "      <td>1.00</td>\n",
       "      <td>29.00</td>\n",
       "      <td>151.00</td>\n",
       "      <td>152.00</td>\n",
       "      <td>163.00</td>\n",
       "      <td>112.43</td>\n",
       "      <td>54.04</td>\n",
       "    </tr>\n",
       "    <tr>\n",
       "      <th>Age</th>\n",
       "      <td>int64</td>\n",
       "      <td>66</td>\n",
       "      <td>20.00</td>\n",
       "      <td>24.00</td>\n",
       "      <td>36.00</td>\n",
       "      <td>49.00</td>\n",
       "      <td>85.00</td>\n",
       "      <td>38.38</td>\n",
       "      <td>14.99</td>\n",
       "    </tr>\n",
       "    <tr>\n",
       "      <th>Region_Code</th>\n",
       "      <td>float64</td>\n",
       "      <td>54</td>\n",
       "      <td>0.00</td>\n",
       "      <td>15.00</td>\n",
       "      <td>28.00</td>\n",
       "      <td>35.00</td>\n",
       "      <td>52.00</td>\n",
       "      <td>26.42</td>\n",
       "      <td>12.99</td>\n",
       "    </tr>\n",
       "    <tr>\n",
       "      <th>Vehicle_Age</th>\n",
       "      <td>object</td>\n",
       "      <td>3</td>\n",
       "      <td>NaN</td>\n",
       "      <td>NaN</td>\n",
       "      <td>NaN</td>\n",
       "      <td>NaN</td>\n",
       "      <td>NaN</td>\n",
       "      <td>NaN</td>\n",
       "      <td>NaN</td>\n",
       "    </tr>\n",
       "    <tr>\n",
       "      <th>Gender</th>\n",
       "      <td>object</td>\n",
       "      <td>2</td>\n",
       "      <td>NaN</td>\n",
       "      <td>NaN</td>\n",
       "      <td>NaN</td>\n",
       "      <td>NaN</td>\n",
       "      <td>NaN</td>\n",
       "      <td>NaN</td>\n",
       "      <td>NaN</td>\n",
       "    </tr>\n",
       "    <tr>\n",
       "      <th>Driving_License</th>\n",
       "      <td>int64</td>\n",
       "      <td>2</td>\n",
       "      <td>0.00</td>\n",
       "      <td>1.00</td>\n",
       "      <td>1.00</td>\n",
       "      <td>1.00</td>\n",
       "      <td>1.00</td>\n",
       "      <td>1.00</td>\n",
       "      <td>0.04</td>\n",
       "    </tr>\n",
       "    <tr>\n",
       "      <th>Previously_Insured</th>\n",
       "      <td>int64</td>\n",
       "      <td>2</td>\n",
       "      <td>0.00</td>\n",
       "      <td>0.00</td>\n",
       "      <td>0.00</td>\n",
       "      <td>1.00</td>\n",
       "      <td>1.00</td>\n",
       "      <td>0.46</td>\n",
       "      <td>0.50</td>\n",
       "    </tr>\n",
       "    <tr>\n",
       "      <th>Vehicle_Damage</th>\n",
       "      <td>object</td>\n",
       "      <td>2</td>\n",
       "      <td>NaN</td>\n",
       "      <td>NaN</td>\n",
       "      <td>NaN</td>\n",
       "      <td>NaN</td>\n",
       "      <td>NaN</td>\n",
       "      <td>NaN</td>\n",
       "      <td>NaN</td>\n",
       "    </tr>\n",
       "    <tr>\n",
       "      <th>Response</th>\n",
       "      <td>int64</td>\n",
       "      <td>2</td>\n",
       "      <td>0.00</td>\n",
       "      <td>0.00</td>\n",
       "      <td>0.00</td>\n",
       "      <td>0.00</td>\n",
       "      <td>1.00</td>\n",
       "      <td>0.12</td>\n",
       "      <td>0.33</td>\n",
       "    </tr>\n",
       "  </tbody>\n",
       "</table>\n",
       "</div>"
      ],
      "text/plain": [
       "                        dtype   nunique     min        25%        50%  \\\n",
       "feature                                                                 \n",
       "id                      int64  11504798    0.00 2876199.25 5752398.50   \n",
       "Annual_Premium        float64     51728 2630.00   25277.00   31824.00   \n",
       "Vintage                 int64       290   10.00      99.00     166.00   \n",
       "Policy_Sales_Channel  float64       152    1.00      29.00     151.00   \n",
       "Age                     int64        66   20.00      24.00      36.00   \n",
       "Region_Code           float64        54    0.00      15.00      28.00   \n",
       "Vehicle_Age            object         3     NaN        NaN        NaN   \n",
       "Gender                 object         2     NaN        NaN        NaN   \n",
       "Driving_License         int64         2    0.00       1.00       1.00   \n",
       "Previously_Insured      int64         2    0.00       0.00       0.00   \n",
       "Vehicle_Damage         object         2     NaN        NaN        NaN   \n",
       "Response                int64         2    0.00       0.00       0.00   \n",
       "\n",
       "                            75%         max       mean    std_dev  \n",
       "feature                                                            \n",
       "id                   8628597.75 11504797.00 5752398.50 3321149.26  \n",
       "Annual_Premium         39451.00   540165.00   30461.37   16454.75  \n",
       "Vintage                  232.00      299.00     163.90      79.98  \n",
       "Policy_Sales_Channel     152.00      163.00     112.43      54.04  \n",
       "Age                       49.00       85.00      38.38      14.99  \n",
       "Region_Code               35.00       52.00      26.42      12.99  \n",
       "Vehicle_Age                 NaN         NaN        NaN        NaN  \n",
       "Gender                      NaN         NaN        NaN        NaN  \n",
       "Driving_License            1.00        1.00       1.00       0.04  \n",
       "Previously_Insured         1.00        1.00       0.46       0.50  \n",
       "Vehicle_Damage              NaN         NaN        NaN        NaN  \n",
       "Response                   0.00        1.00       0.12       0.33  "
      ]
     },
     "execution_count": 6,
     "metadata": {},
     "output_type": "execute_result"
    }
   ],
   "source": [
    "# features\n",
    "pd.set_option('display.float_format', lambda x: '%.2f' % x)\n",
    "columns_info(train).sort_values(by='nunique', ascending=False)"
   ]
  },
  {
   "cell_type": "markdown",
   "id": "8cbf9007",
   "metadata": {
    "papermill": {
     "duration": 0.010956,
     "end_time": "2024-09-07T00:28:46.924409",
     "exception": false,
     "start_time": "2024-09-07T00:28:46.913453",
     "status": "completed"
    },
    "tags": []
   },
   "source": [
    "# 2) Data Cleaning"
   ]
  },
  {
   "cell_type": "code",
   "execution_count": 7,
   "id": "da870c39",
   "metadata": {
    "execution": {
     "iopub.execute_input": "2024-09-07T00:28:46.948688Z",
     "iopub.status.busy": "2024-09-07T00:28:46.947751Z",
     "iopub.status.idle": "2024-09-07T00:28:54.882392Z",
     "shell.execute_reply": "2024-09-07T00:28:54.881154Z"
    },
    "papermill": {
     "duration": 7.949955,
     "end_time": "2024-09-07T00:28:54.885186",
     "exception": false,
     "start_time": "2024-09-07T00:28:46.935231",
     "status": "completed"
    },
    "tags": []
   },
   "outputs": [
    {
     "data": {
      "text/html": [
       "<div>\n",
       "<style scoped>\n",
       "    .dataframe tbody tr th:only-of-type {\n",
       "        vertical-align: middle;\n",
       "    }\n",
       "\n",
       "    .dataframe tbody tr th {\n",
       "        vertical-align: top;\n",
       "    }\n",
       "\n",
       "    .dataframe thead th {\n",
       "        text-align: right;\n",
       "    }\n",
       "</style>\n",
       "<table border=\"1\" class=\"dataframe\">\n",
       "  <thead>\n",
       "    <tr style=\"text-align: right;\">\n",
       "      <th></th>\n",
       "      <th>Gender</th>\n",
       "      <th>Age</th>\n",
       "      <th>Previously_Insured</th>\n",
       "      <th>Vehicle_Age</th>\n",
       "      <th>Vehicle_Damage</th>\n",
       "      <th>Annual_Premium</th>\n",
       "      <th>Vintage</th>\n",
       "      <th>Response</th>\n",
       "    </tr>\n",
       "    <tr>\n",
       "      <th>id</th>\n",
       "      <th></th>\n",
       "      <th></th>\n",
       "      <th></th>\n",
       "      <th></th>\n",
       "      <th></th>\n",
       "      <th></th>\n",
       "      <th></th>\n",
       "      <th></th>\n",
       "    </tr>\n",
       "  </thead>\n",
       "  <tbody>\n",
       "    <tr>\n",
       "      <th>0</th>\n",
       "      <td>Male</td>\n",
       "      <td>21</td>\n",
       "      <td>0</td>\n",
       "      <td>1-2 Year</td>\n",
       "      <td>Yes</td>\n",
       "      <td>65101.00</td>\n",
       "      <td>187</td>\n",
       "      <td>0</td>\n",
       "    </tr>\n",
       "    <tr>\n",
       "      <th>1</th>\n",
       "      <td>Male</td>\n",
       "      <td>43</td>\n",
       "      <td>0</td>\n",
       "      <td>&gt; 2 Years</td>\n",
       "      <td>Yes</td>\n",
       "      <td>58911.00</td>\n",
       "      <td>288</td>\n",
       "      <td>1</td>\n",
       "    </tr>\n",
       "    <tr>\n",
       "      <th>2</th>\n",
       "      <td>Female</td>\n",
       "      <td>25</td>\n",
       "      <td>1</td>\n",
       "      <td>&lt; 1 Year</td>\n",
       "      <td>No</td>\n",
       "      <td>38043.00</td>\n",
       "      <td>254</td>\n",
       "      <td>0</td>\n",
       "    </tr>\n",
       "    <tr>\n",
       "      <th>3</th>\n",
       "      <td>Female</td>\n",
       "      <td>35</td>\n",
       "      <td>0</td>\n",
       "      <td>1-2 Year</td>\n",
       "      <td>Yes</td>\n",
       "      <td>2630.00</td>\n",
       "      <td>76</td>\n",
       "      <td>0</td>\n",
       "    </tr>\n",
       "    <tr>\n",
       "      <th>4</th>\n",
       "      <td>Female</td>\n",
       "      <td>36</td>\n",
       "      <td>1</td>\n",
       "      <td>1-2 Year</td>\n",
       "      <td>No</td>\n",
       "      <td>31951.00</td>\n",
       "      <td>294</td>\n",
       "      <td>0</td>\n",
       "    </tr>\n",
       "    <tr>\n",
       "      <th>...</th>\n",
       "      <td>...</td>\n",
       "      <td>...</td>\n",
       "      <td>...</td>\n",
       "      <td>...</td>\n",
       "      <td>...</td>\n",
       "      <td>...</td>\n",
       "      <td>...</td>\n",
       "      <td>...</td>\n",
       "    </tr>\n",
       "    <tr>\n",
       "      <th>11504793</th>\n",
       "      <td>Male</td>\n",
       "      <td>48</td>\n",
       "      <td>0</td>\n",
       "      <td>1-2 Year</td>\n",
       "      <td>Yes</td>\n",
       "      <td>27412.00</td>\n",
       "      <td>218</td>\n",
       "      <td>0</td>\n",
       "    </tr>\n",
       "    <tr>\n",
       "      <th>11504794</th>\n",
       "      <td>Female</td>\n",
       "      <td>26</td>\n",
       "      <td>0</td>\n",
       "      <td>&lt; 1 Year</td>\n",
       "      <td>Yes</td>\n",
       "      <td>29509.00</td>\n",
       "      <td>115</td>\n",
       "      <td>1</td>\n",
       "    </tr>\n",
       "    <tr>\n",
       "      <th>11504795</th>\n",
       "      <td>Female</td>\n",
       "      <td>29</td>\n",
       "      <td>1</td>\n",
       "      <td>&lt; 1 Year</td>\n",
       "      <td>No</td>\n",
       "      <td>2630.00</td>\n",
       "      <td>189</td>\n",
       "      <td>0</td>\n",
       "    </tr>\n",
       "    <tr>\n",
       "      <th>11504796</th>\n",
       "      <td>Female</td>\n",
       "      <td>51</td>\n",
       "      <td>0</td>\n",
       "      <td>1-2 Year</td>\n",
       "      <td>Yes</td>\n",
       "      <td>48443.00</td>\n",
       "      <td>274</td>\n",
       "      <td>1</td>\n",
       "    </tr>\n",
       "    <tr>\n",
       "      <th>11504797</th>\n",
       "      <td>Male</td>\n",
       "      <td>25</td>\n",
       "      <td>1</td>\n",
       "      <td>&lt; 1 Year</td>\n",
       "      <td>No</td>\n",
       "      <td>32855.00</td>\n",
       "      <td>189</td>\n",
       "      <td>0</td>\n",
       "    </tr>\n",
       "  </tbody>\n",
       "</table>\n",
       "<p>11504798 rows × 8 columns</p>\n",
       "</div>"
      ],
      "text/plain": [
       "          Gender  Age Previously_Insured Vehicle_Age Vehicle_Damage  \\\n",
       "id                                                                    \n",
       "0           Male   21                  0    1-2 Year            Yes   \n",
       "1           Male   43                  0   > 2 Years            Yes   \n",
       "2         Female   25                  1    < 1 Year             No   \n",
       "3         Female   35                  0    1-2 Year            Yes   \n",
       "4         Female   36                  1    1-2 Year             No   \n",
       "...          ...  ...                ...         ...            ...   \n",
       "11504793    Male   48                  0    1-2 Year            Yes   \n",
       "11504794  Female   26                  0    < 1 Year            Yes   \n",
       "11504795  Female   29                  1    < 1 Year             No   \n",
       "11504796  Female   51                  0    1-2 Year            Yes   \n",
       "11504797    Male   25                  1    < 1 Year             No   \n",
       "\n",
       "          Annual_Premium  Vintage  Response  \n",
       "id                                           \n",
       "0               65101.00      187         0  \n",
       "1               58911.00      288         1  \n",
       "2               38043.00      254         0  \n",
       "3                2630.00       76         0  \n",
       "4               31951.00      294         0  \n",
       "...                  ...      ...       ...  \n",
       "11504793        27412.00      218         0  \n",
       "11504794        29509.00      115         1  \n",
       "11504795         2630.00      189         0  \n",
       "11504796        48443.00      274         1  \n",
       "11504797        32855.00      189         0  \n",
       "\n",
       "[11504798 rows x 8 columns]"
      ]
     },
     "execution_count": 7,
     "metadata": {},
     "output_type": "execute_result"
    }
   ],
   "source": [
    "# data cleaning\n",
    "def data_clean(raw_data):\n",
    "    # returns raw_data as clean as we want it \n",
    "    raw_data.set_index('id', inplace=True)\n",
    "    # according to 'columns_info(train)' this feature is invariant\n",
    "    raw_data.drop(columns=['Driving_License'], inplace=True)\n",
    "    # Seems to be nominal; highly problematic due to 54 unique values\n",
    "    raw_data.drop(columns=['Region_Code'], inplace=True)\n",
    "    # Seems to be nominal; highly problematic due to 152 unique values\n",
    "    raw_data.drop(columns=['Policy_Sales_Channel'], inplace=True)\n",
    "    # according to 'columns_info(train)' this feature is nominal\n",
    "    raw_data.Previously_Insured = raw_data.Previously_Insured.astype(str)    \n",
    "    return raw_data\n",
    "\n",
    "data_clean(train)"
   ]
  },
  {
   "cell_type": "code",
   "execution_count": 8,
   "id": "1053b688",
   "metadata": {
    "execution": {
     "iopub.execute_input": "2024-09-07T00:28:54.910088Z",
     "iopub.status.busy": "2024-09-07T00:28:54.909661Z",
     "iopub.status.idle": "2024-09-07T00:28:58.157035Z",
     "shell.execute_reply": "2024-09-07T00:28:58.155786Z"
    },
    "papermill": {
     "duration": 3.26243,
     "end_time": "2024-09-07T00:28:58.159715",
     "exception": false,
     "start_time": "2024-09-07T00:28:54.897285",
     "status": "completed"
    },
    "tags": []
   },
   "outputs": [
    {
     "data": {
      "text/plain": [
       "Response\n",
       "0   0.50\n",
       "1   0.50\n",
       "Name: proportion, dtype: float64"
      ]
     },
     "execution_count": 8,
     "metadata": {},
     "output_type": "execute_result"
    }
   ],
   "source": [
    "# rebalanced dataset sampling\n",
    "train_1 = train[train.Response==1]\n",
    "train_0 = train[train.Response==0].sample(train_1.shape[0], random_state=666)\n",
    "df_train = pd.concat([train_0, train_1])\n",
    "df_train.Response.value_counts(normalize=True)"
   ]
  },
  {
   "cell_type": "code",
   "execution_count": 9,
   "id": "aac0d064",
   "metadata": {
    "execution": {
     "iopub.execute_input": "2024-09-07T00:28:58.184262Z",
     "iopub.status.busy": "2024-09-07T00:28:58.183852Z",
     "iopub.status.idle": "2024-09-07T00:28:58.191093Z",
     "shell.execute_reply": "2024-09-07T00:28:58.189955Z"
    },
    "papermill": {
     "duration": 0.022564,
     "end_time": "2024-09-07T00:28:58.193538",
     "exception": false,
     "start_time": "2024-09-07T00:28:58.170974",
     "status": "completed"
    },
    "tags": []
   },
   "outputs": [
    {
     "data": {
      "text/plain": [
       "(2830118, 8)"
      ]
     },
     "execution_count": 9,
     "metadata": {},
     "output_type": "execute_result"
    }
   ],
   "source": [
    "df_train.shape"
   ]
  },
  {
   "cell_type": "markdown",
   "id": "90317fdb",
   "metadata": {
    "papermill": {
     "duration": 0.011117,
     "end_time": "2024-09-07T00:28:58.216454",
     "exception": false,
     "start_time": "2024-09-07T00:28:58.205337",
     "status": "completed"
    },
    "tags": []
   },
   "source": [
    "# 3) Significance tests"
   ]
  },
  {
   "cell_type": "code",
   "execution_count": 10,
   "id": "1e12ae67",
   "metadata": {
    "execution": {
     "iopub.execute_input": "2024-09-07T00:28:58.241234Z",
     "iopub.status.busy": "2024-09-07T00:28:58.240820Z",
     "iopub.status.idle": "2024-09-07T00:29:03.886455Z",
     "shell.execute_reply": "2024-09-07T00:29:03.885106Z"
    },
    "papermill": {
     "duration": 5.661188,
     "end_time": "2024-09-07T00:29:03.889243",
     "exception": false,
     "start_time": "2024-09-07T00:28:58.228055",
     "status": "completed"
    },
    "tags": []
   },
   "outputs": [
    {
     "data": {
      "text/plain": [
       "Gender                 object\n",
       "Age                     int64\n",
       "Previously_Insured     object\n",
       "Vehicle_Age            object\n",
       "Vehicle_Damage         object\n",
       "Annual_Premium        float64\n",
       "Vintage                 int64\n",
       "dtype: object"
      ]
     },
     "execution_count": 10,
     "metadata": {},
     "output_type": "execute_result"
    }
   ],
   "source": [
    "from sklearn.model_selection import train_test_split\n",
    "# train/test split\n",
    "y = df_train['Response']\n",
    "X = df_train.drop('Response', axis=1)\n",
    "X_train, X_test, y_train, y_test = train_test_split(X, y, test_size=0.2, random_state=0, stratify=df_train['Response'])\n",
    "df_train = pd.concat([X_train, y_train], axis=1)\n",
    "X_train.dtypes"
   ]
  },
  {
   "cell_type": "code",
   "execution_count": 11,
   "id": "d610b19a",
   "metadata": {
    "execution": {
     "iopub.execute_input": "2024-09-07T00:29:03.914444Z",
     "iopub.status.busy": "2024-09-07T00:29:03.914052Z",
     "iopub.status.idle": "2024-09-07T00:29:21.931713Z",
     "shell.execute_reply": "2024-09-07T00:29:21.930239Z"
    },
    "papermill": {
     "duration": 18.033645,
     "end_time": "2024-09-07T00:29:21.934614",
     "exception": false,
     "start_time": "2024-09-07T00:29:03.900969",
     "status": "completed"
    },
    "tags": []
   },
   "outputs": [
    {
     "name": "stdout",
     "output_type": "stream",
     "text": [
      "CPU times: user 17.4 s, sys: 732 ms, total: 18.1 s\n",
      "Wall time: 18 s\n"
     ]
    }
   ],
   "source": [
    "%%time\n",
    "from scipy.stats import mannwhitneyu, chi2_contingency\n",
    "\n",
    "# numeric features testing\n",
    "for feature in X_train.select_dtypes(exclude='object').columns:\n",
    "    group_0 = df_train[df_train['Response']==0][feature]\n",
    "    group_1 = df_train[df_train['Response']==1][feature]\n",
    "    stat, p = mannwhitneyu(group_0, group_1, alternative='two-sided')\n",
    "    if p > 0.05:\n",
    "        print('Feature {} is statistically insignificant'.format(feature))\n",
    "        \n",
    "# nominal features testing\n",
    "for feature in X_train.select_dtypes(include='object').columns:\n",
    "    contingency_table = pd.crosstab(df_train[feature], df_train['Response'])\n",
    "    chi2_stat, p_val, dof, expected = chi2_contingency(contingency_table)\n",
    "    if p > 0.05:\n",
    "        print('Feature {} is statistically insignificant'.format(feature))"
   ]
  },
  {
   "cell_type": "markdown",
   "id": "ee68bb1d",
   "metadata": {
    "papermill": {
     "duration": 0.011705,
     "end_time": "2024-09-07T00:29:21.958908",
     "exception": false,
     "start_time": "2024-09-07T00:29:21.947203",
     "status": "completed"
    },
    "tags": []
   },
   "source": [
    "# 4) Preprocessing"
   ]
  },
  {
   "cell_type": "code",
   "execution_count": 12,
   "id": "7d039573",
   "metadata": {
    "execution": {
     "iopub.execute_input": "2024-09-07T00:29:21.984586Z",
     "iopub.status.busy": "2024-09-07T00:29:21.983432Z",
     "iopub.status.idle": "2024-09-07T00:29:29.980415Z",
     "shell.execute_reply": "2024-09-07T00:29:29.979237Z"
    },
    "papermill": {
     "duration": 8.012361,
     "end_time": "2024-09-07T00:29:29.982862",
     "exception": false,
     "start_time": "2024-09-07T00:29:21.970501",
     "status": "completed"
    },
    "tags": []
   },
   "outputs": [
    {
     "data": {
      "text/html": [
       "<div>\n",
       "<style scoped>\n",
       "    .dataframe tbody tr th:only-of-type {\n",
       "        vertical-align: middle;\n",
       "    }\n",
       "\n",
       "    .dataframe tbody tr th {\n",
       "        vertical-align: top;\n",
       "    }\n",
       "\n",
       "    .dataframe thead th {\n",
       "        text-align: right;\n",
       "    }\n",
       "</style>\n",
       "<table border=\"1\" class=\"dataframe\">\n",
       "  <thead>\n",
       "    <tr style=\"text-align: right;\">\n",
       "      <th></th>\n",
       "      <th>0</th>\n",
       "      <th>1</th>\n",
       "      <th>2</th>\n",
       "      <th>3</th>\n",
       "      <th>4</th>\n",
       "      <th>5</th>\n",
       "      <th>6</th>\n",
       "      <th>7</th>\n",
       "    </tr>\n",
       "  </thead>\n",
       "  <tbody>\n",
       "    <tr>\n",
       "      <th>0</th>\n",
       "      <td>-0.38</td>\n",
       "      <td>0.08</td>\n",
       "      <td>0.63</td>\n",
       "      <td>0.00</td>\n",
       "      <td>1.00</td>\n",
       "      <td>1.00</td>\n",
       "      <td>0.00</td>\n",
       "      <td>0.00</td>\n",
       "    </tr>\n",
       "    <tr>\n",
       "      <th>1</th>\n",
       "      <td>1.34</td>\n",
       "      <td>0.14</td>\n",
       "      <td>0.77</td>\n",
       "      <td>1.00</td>\n",
       "      <td>0.00</td>\n",
       "      <td>0.00</td>\n",
       "      <td>0.00</td>\n",
       "      <td>1.00</td>\n",
       "    </tr>\n",
       "    <tr>\n",
       "      <th>2</th>\n",
       "      <td>0.01</td>\n",
       "      <td>0.41</td>\n",
       "      <td>0.87</td>\n",
       "      <td>0.00</td>\n",
       "      <td>0.00</td>\n",
       "      <td>0.00</td>\n",
       "      <td>0.00</td>\n",
       "      <td>1.00</td>\n",
       "    </tr>\n",
       "    <tr>\n",
       "      <th>3</th>\n",
       "      <td>-1.67</td>\n",
       "      <td>0.17</td>\n",
       "      <td>0.61</td>\n",
       "      <td>1.00</td>\n",
       "      <td>0.00</td>\n",
       "      <td>1.00</td>\n",
       "      <td>0.00</td>\n",
       "      <td>1.00</td>\n",
       "    </tr>\n",
       "    <tr>\n",
       "      <th>4</th>\n",
       "      <td>0.47</td>\n",
       "      <td>0.78</td>\n",
       "      <td>0.71</td>\n",
       "      <td>0.00</td>\n",
       "      <td>0.00</td>\n",
       "      <td>0.00</td>\n",
       "      <td>1.00</td>\n",
       "      <td>1.00</td>\n",
       "    </tr>\n",
       "    <tr>\n",
       "      <th>...</th>\n",
       "      <td>...</td>\n",
       "      <td>...</td>\n",
       "      <td>...</td>\n",
       "      <td>...</td>\n",
       "      <td>...</td>\n",
       "      <td>...</td>\n",
       "      <td>...</td>\n",
       "      <td>...</td>\n",
       "    </tr>\n",
       "    <tr>\n",
       "      <th>2264089</th>\n",
       "      <td>0.14</td>\n",
       "      <td>0.33</td>\n",
       "      <td>0.79</td>\n",
       "      <td>0.00</td>\n",
       "      <td>0.00</td>\n",
       "      <td>0.00</td>\n",
       "      <td>0.00</td>\n",
       "      <td>1.00</td>\n",
       "    </tr>\n",
       "    <tr>\n",
       "      <th>2264090</th>\n",
       "      <td>-0.10</td>\n",
       "      <td>0.05</td>\n",
       "      <td>0.34</td>\n",
       "      <td>1.00</td>\n",
       "      <td>0.00</td>\n",
       "      <td>1.00</td>\n",
       "      <td>0.00</td>\n",
       "      <td>1.00</td>\n",
       "    </tr>\n",
       "    <tr>\n",
       "      <th>2264091</th>\n",
       "      <td>0.22</td>\n",
       "      <td>0.41</td>\n",
       "      <td>0.61</td>\n",
       "      <td>0.00</td>\n",
       "      <td>0.00</td>\n",
       "      <td>0.00</td>\n",
       "      <td>0.00</td>\n",
       "      <td>1.00</td>\n",
       "    </tr>\n",
       "    <tr>\n",
       "      <th>2264092</th>\n",
       "      <td>0.58</td>\n",
       "      <td>0.30</td>\n",
       "      <td>0.54</td>\n",
       "      <td>1.00</td>\n",
       "      <td>0.00</td>\n",
       "      <td>0.00</td>\n",
       "      <td>0.00</td>\n",
       "      <td>1.00</td>\n",
       "    </tr>\n",
       "    <tr>\n",
       "      <th>2264093</th>\n",
       "      <td>0.06</td>\n",
       "      <td>0.55</td>\n",
       "      <td>0.86</td>\n",
       "      <td>1.00</td>\n",
       "      <td>0.00</td>\n",
       "      <td>0.00</td>\n",
       "      <td>1.00</td>\n",
       "      <td>1.00</td>\n",
       "    </tr>\n",
       "  </tbody>\n",
       "</table>\n",
       "<p>2264094 rows × 8 columns</p>\n",
       "</div>"
      ],
      "text/plain": [
       "            0    1    2    3    4    5    6    7\n",
       "0       -0.38 0.08 0.63 0.00 1.00 1.00 0.00 0.00\n",
       "1        1.34 0.14 0.77 1.00 0.00 0.00 0.00 1.00\n",
       "2        0.01 0.41 0.87 0.00 0.00 0.00 0.00 1.00\n",
       "3       -1.67 0.17 0.61 1.00 0.00 1.00 0.00 1.00\n",
       "4        0.47 0.78 0.71 0.00 0.00 0.00 1.00 1.00\n",
       "...       ...  ...  ...  ...  ...  ...  ...  ...\n",
       "2264089  0.14 0.33 0.79 0.00 0.00 0.00 0.00 1.00\n",
       "2264090 -0.10 0.05 0.34 1.00 0.00 1.00 0.00 1.00\n",
       "2264091  0.22 0.41 0.61 0.00 0.00 0.00 0.00 1.00\n",
       "2264092  0.58 0.30 0.54 1.00 0.00 0.00 0.00 1.00\n",
       "2264093  0.06 0.55 0.86 1.00 0.00 0.00 1.00 1.00\n",
       "\n",
       "[2264094 rows x 8 columns]"
      ]
     },
     "execution_count": 12,
     "metadata": {},
     "output_type": "execute_result"
    }
   ],
   "source": [
    "from sklearn.compose import make_column_transformer\n",
    "from sklearn.preprocessing import OneHotEncoder, StandardScaler, MinMaxScaler\n",
    "\n",
    "prep = make_column_transformer((StandardScaler(), X_train.select_dtypes(include='float64').columns), \n",
    "                               (MinMaxScaler(), X_train.select_dtypes(include='int64').columns),\n",
    "                               (OneHotEncoder(drop='first'), X_train.select_dtypes(include='object').columns))\n",
    "\n",
    "X_train_transformed = prep.fit_transform(X_train)\n",
    "X_train_transformed = pd.DataFrame(X_train_transformed)\n",
    "X_train_transformed"
   ]
  },
  {
   "cell_type": "markdown",
   "id": "efb40004",
   "metadata": {
    "papermill": {
     "duration": 0.011685,
     "end_time": "2024-09-07T00:29:30.006740",
     "exception": false,
     "start_time": "2024-09-07T00:29:29.995055",
     "status": "completed"
    },
    "tags": []
   },
   "source": [
    "# 5) Deep Learning"
   ]
  },
  {
   "cell_type": "code",
   "execution_count": 13,
   "id": "33595d34",
   "metadata": {
    "execution": {
     "iopub.execute_input": "2024-09-07T00:29:30.032602Z",
     "iopub.status.busy": "2024-09-07T00:29:30.032167Z",
     "iopub.status.idle": "2024-09-07T00:39:27.485581Z",
     "shell.execute_reply": "2024-09-07T00:39:27.484222Z"
    },
    "papermill": {
     "duration": 597.469861,
     "end_time": "2024-09-07T00:39:27.488566",
     "exception": false,
     "start_time": "2024-09-07T00:29:30.018705",
     "status": "completed"
    },
    "tags": []
   },
   "outputs": [
    {
     "name": "stderr",
     "output_type": "stream",
     "text": [
      "2024-09-07 00:29:32.453942: E external/local_xla/xla/stream_executor/cuda/cuda_dnn.cc:9261] Unable to register cuDNN factory: Attempting to register factory for plugin cuDNN when one has already been registered\n",
      "2024-09-07 00:29:32.454104: E external/local_xla/xla/stream_executor/cuda/cuda_fft.cc:607] Unable to register cuFFT factory: Attempting to register factory for plugin cuFFT when one has already been registered\n",
      "2024-09-07 00:29:32.621720: E external/local_xla/xla/stream_executor/cuda/cuda_blas.cc:1515] Unable to register cuBLAS factory: Attempting to register factory for plugin cuBLAS when one has already been registered\n",
      "/opt/conda/lib/python3.10/site-packages/keras/src/layers/core/dense.py:87: UserWarning: Do not pass an `input_shape`/`input_dim` argument to a layer. When using Sequential models, prefer using an `Input(shape)` object as the first layer in the model instead.\n",
      "  super().__init__(activity_regularizer=activity_regularizer, **kwargs)\n"
     ]
    },
    {
     "name": "stdout",
     "output_type": "stream",
     "text": [
      "Epoch 1/10\n",
      "\u001b[1m1990/1990\u001b[0m \u001b[32m━━━━━━━━━━━━━━━━━━━━\u001b[0m\u001b[37m\u001b[0m \u001b[1m51s\u001b[0m 24ms/step - AUC: 0.8350 - loss: 0.4410 - val_AUC: 0.8488 - val_loss: 0.4257 - learning_rate: 0.0010\n",
      "Epoch 2/10\n",
      "\u001b[1m1990/1990\u001b[0m \u001b[32m━━━━━━━━━━━━━━━━━━━━\u001b[0m\u001b[37m\u001b[0m \u001b[1m47s\u001b[0m 24ms/step - AUC: 0.8470 - loss: 0.4268 - val_AUC: 0.8502 - val_loss: 0.4242 - learning_rate: 0.0010\n",
      "Epoch 3/10\n",
      "\u001b[1m1990/1990\u001b[0m \u001b[32m━━━━━━━━━━━━━━━━━━━━\u001b[0m\u001b[37m\u001b[0m \u001b[1m47s\u001b[0m 24ms/step - AUC: 0.8483 - loss: 0.4257 - val_AUC: 0.8506 - val_loss: 0.4243 - learning_rate: 0.0010\n",
      "Epoch 4/10\n",
      "\u001b[1m1990/1990\u001b[0m \u001b[32m━━━━━━━━━━━━━━━━━━━━\u001b[0m\u001b[37m\u001b[0m \u001b[1m82s\u001b[0m 24ms/step - AUC: 0.8487 - loss: 0.4256 - val_AUC: 0.8510 - val_loss: 0.4240 - learning_rate: 0.0010\n",
      "Epoch 5/10\n",
      "\u001b[1m1990/1990\u001b[0m \u001b[32m━━━━━━━━━━━━━━━━━━━━\u001b[0m\u001b[37m\u001b[0m \u001b[1m47s\u001b[0m 24ms/step - AUC: 0.8494 - loss: 0.4251 - val_AUC: 0.8516 - val_loss: 0.4236 - learning_rate: 0.0010\n",
      "Epoch 6/10\n",
      "\u001b[1m1990/1990\u001b[0m \u001b[32m━━━━━━━━━━━━━━━━━━━━\u001b[0m\u001b[37m\u001b[0m \u001b[1m82s\u001b[0m 24ms/step - AUC: 0.8495 - loss: 0.4259 - val_AUC: 0.8516 - val_loss: 0.4234 - learning_rate: 0.0010\n",
      "Epoch 7/10\n",
      "\u001b[1m1990/1990\u001b[0m \u001b[32m━━━━━━━━━━━━━━━━━━━━\u001b[0m\u001b[37m\u001b[0m \u001b[1m83s\u001b[0m 24ms/step - AUC: 0.8503 - loss: 0.4241 - val_AUC: 0.8519 - val_loss: 0.4229 - learning_rate: 0.0010\n",
      "Epoch 8/10\n",
      "\u001b[1m1990/1990\u001b[0m \u001b[32m━━━━━━━━━━━━━━━━━━━━\u001b[0m\u001b[37m\u001b[0m \u001b[1m48s\u001b[0m 24ms/step - AUC: 0.8498 - loss: 0.4252 - val_AUC: 0.8521 - val_loss: 0.4230 - learning_rate: 0.0010\n",
      "Epoch 9/10\n",
      "\u001b[1m1990/1990\u001b[0m \u001b[32m━━━━━━━━━━━━━━━━━━━━\u001b[0m\u001b[37m\u001b[0m \u001b[1m48s\u001b[0m 24ms/step - AUC: 0.8497 - loss: 0.4249 - val_AUC: 0.8521 - val_loss: 0.4230 - learning_rate: 0.0010\n",
      "Epoch 10/10\n",
      "\u001b[1m1990/1990\u001b[0m \u001b[32m━━━━━━━━━━━━━━━━━━━━\u001b[0m\u001b[37m\u001b[0m \u001b[1m48s\u001b[0m 24ms/step - AUC: 0.8499 - loss: 0.4247 - val_AUC: 0.8516 - val_loss: 0.4233 - learning_rate: 0.0010\n",
      "CPU times: user 23min 44s, sys: 53.7 s, total: 24min 38s\n",
      "Wall time: 9min 57s\n"
     ]
    }
   ],
   "source": [
    "%%time\n",
    "import tensorflow as tf\n",
    "from tensorflow.keras.models import Sequential\n",
    "from tensorflow.keras.layers import Dense, Dropout\n",
    "from tensorflow.keras.optimizers import Adam\n",
    "from tensorflow.keras.callbacks import EarlyStopping, ReduceLROnPlateau\n",
    "\n",
    "# Neural network architecture\n",
    "model = Sequential([\n",
    "    Dense(512, input_shape=(8,), activation='relu'),\n",
    "    Dropout(0.4),\n",
    "    Dense(256, activation='relu'),\n",
    "    Dropout(0.4),\n",
    "    Dense(128, activation='relu'),\n",
    "    Dropout(0.4),\n",
    "    Dense(64, activation='relu'),\n",
    "    Dropout(0.4),\n",
    "    Dense(1, activation='sigmoid')\n",
    "])\n",
    "\n",
    "# compilation\n",
    "model.compile(optimizer=Adam(learning_rate=0.001), loss='binary_crossentropy', metrics=['AUC'])\n",
    "\n",
    "# callbacks\n",
    "early_stopping = EarlyStopping(monitor='val_loss', patience=5, restore_best_weights=True)\n",
    "reduce_lr = ReduceLROnPlateau(monitor='val_loss', factor=0.5, patience=5, min_lr=0.0000001)\n",
    "\n",
    "# backpropagation\n",
    "history = model.fit(\n",
    "    X_train_transformed, y_train,\n",
    "    epochs=10,\n",
    "    batch_size=1024,  \n",
    "    validation_split=0.1,\n",
    "    callbacks=[early_stopping, reduce_lr],\n",
    "    verbose=1\n",
    ")"
   ]
  },
  {
   "cell_type": "markdown",
   "id": "e303b598",
   "metadata": {
    "papermill": {
     "duration": 0.687543,
     "end_time": "2024-09-07T00:39:28.856757",
     "exception": false,
     "start_time": "2024-09-07T00:39:28.169214",
     "status": "completed"
    },
    "tags": []
   },
   "source": [
    "# 6) Evaluation"
   ]
  },
  {
   "cell_type": "code",
   "execution_count": 14,
   "id": "9a9671b5",
   "metadata": {
    "execution": {
     "iopub.execute_input": "2024-09-07T00:39:30.276021Z",
     "iopub.status.busy": "2024-09-07T00:39:30.275222Z",
     "iopub.status.idle": "2024-09-07T00:40:08.097966Z",
     "shell.execute_reply": "2024-09-07T00:40:08.096590Z"
    },
    "papermill": {
     "duration": 39.174713,
     "end_time": "2024-09-07T00:40:08.775426",
     "exception": false,
     "start_time": "2024-09-07T00:39:29.600713",
     "status": "completed"
    },
    "tags": []
   },
   "outputs": [
    {
     "name": "stdout",
     "output_type": "stream",
     "text": [
      "CPU times: user 45.9 s, sys: 3.39 s, total: 49.3 s\n",
      "Wall time: 37.8 s\n"
     ]
    }
   ],
   "source": [
    "%%time\n",
    "y_pred_proba = model.predict(pd.DataFrame(prep.fit_transform(X_test)), verbose=0)"
   ]
  },
  {
   "cell_type": "code",
   "execution_count": 15,
   "id": "0b4d99a4",
   "metadata": {
    "execution": {
     "iopub.execute_input": "2024-09-07T00:40:10.197196Z",
     "iopub.status.busy": "2024-09-07T00:40:10.196770Z",
     "iopub.status.idle": "2024-09-07T00:40:11.762841Z",
     "shell.execute_reply": "2024-09-07T00:40:11.761562Z"
    },
    "papermill": {
     "duration": 2.316884,
     "end_time": "2024-09-07T00:40:11.765287",
     "exception": false,
     "start_time": "2024-09-07T00:40:09.448403",
     "status": "completed"
    },
    "tags": []
   },
   "outputs": [
    {
     "data": {
      "image/png": "[encoded data removed]",
      "text/plain": [
       "<Figure size 1100x400 with 2 Axes>"
      ]
     },
     "metadata": {},
     "output_type": "display_data"
    }
   ],
   "source": [
    "import matplotlib.pyplot as plt\n",
    "import seaborn as sns\n",
    "plt.style.use('fivethirtyeight')\n",
    "%matplotlib inline\n",
    "\n",
    "# metrics\n",
    "from sklearn.metrics import confusion_matrix, auc, roc_curve\n",
    "\n",
    "# Compute confusion matrix\n",
    "cm = confusion_matrix(y_test, np.where(y_pred_proba>0.5,1,0))\n",
    "\n",
    "# Compute ROC curve and AUC\n",
    "fpr, tpr, thresholds = roc_curve(y_test, y_pred_proba)\n",
    "roc_auc = auc(fpr, tpr)\n",
    "\n",
    "# Compute accuracy, sensitivity and specificity\n",
    "accuracy = (cm[0, 0] + cm[1, 1]) / np.sum(cm)\n",
    "default_threshold_index = np.where(thresholds > 0.5)[0][-1]\n",
    "sensitivity = tpr[default_threshold_index]\n",
    "specificity = 1 - fpr[default_threshold_index]\n",
    "\n",
    "# Create figure with subplots\n",
    "fig, axes = plt.subplots(1, 2, figsize=(11, 4))\n",
    "\n",
    "# Confusion Matrix subplot\n",
    "sns.heatmap(cm, \n",
    "            annot=True, \n",
    "            fmt='d', \n",
    "            cmap='Blues', \n",
    "            xticklabels=['Predicted 0', 'Predicted 1'],\n",
    "            yticklabels=['Actual 0', 'Actual 1'], \n",
    "            cbar=False, \n",
    "            ax=axes[0])\n",
    "\n",
    "axes[0].set_title('Confusion Matrix', fontsize=21)\n",
    "axes[0].set_xlabel('Predicted Label', fontsize=18)\n",
    "axes[0].set_ylabel('True Label', fontsize=18)\n",
    "axes[0].tick_params(axis='both', which='major', labelsize=14)\n",
    "\n",
    "# ROC Curve subplot\n",
    "axes[1].plot(fpr, tpr, color='blue', lw=2, label=f'ROC curve (area = {roc_auc:.4f})')\n",
    "axes[1].legend(loc=\"lower right\", fontsize=14)\n",
    "axes[1].text(0.6, 0.4, f'Accuracy: {accuracy:.2f}\\nSensitivity: {sensitivity:.2f}\\nSpecificity: {specificity:.2f}', \n",
    "             bbox=dict(facecolor='white', edgecolor='black', boxstyle='round,pad=0.5'), \n",
    "             fontsize=12)\n",
    "axes[1].set_xlim([0.0, 1.0])\n",
    "axes[1].set_ylim([0.0, 1.05])\n",
    "axes[1].set_xlabel('1 - Specificity', fontsize=18)\n",
    "axes[1].set_ylabel('Sensitivity', fontsize=18)\n",
    "axes[1].set_title('ROC Curve', fontsize=21)\n",
    "axes[1].plot(fpr[default_threshold_index], tpr[default_threshold_index], 'ro', label='Threshold = 0.5')\n",
    "axes[1].legend(loc=\"lower right\", fontsize=14)\n",
    "\n",
    "plt.tight_layout()\n",
    "plt.show()"
   ]
  },
  {
   "cell_type": "code",
   "execution_count": 16,
   "id": "b90248b4",
   "metadata": {
    "execution": {
     "iopub.execute_input": "2024-09-07T00:40:13.136827Z",
     "iopub.status.busy": "2024-09-07T00:40:13.136396Z",
     "iopub.status.idle": "2024-09-07T00:40:13.144790Z",
     "shell.execute_reply": "2024-09-07T00:40:13.143646Z"
    },
    "papermill": {
     "duration": 0.696293,
     "end_time": "2024-09-07T00:40:13.147179",
     "exception": false,
     "start_time": "2024-09-07T00:40:12.450886",
     "status": "completed"
    },
    "tags": []
   },
   "outputs": [
    {
     "data": {
      "text/plain": [
       "0.50518453"
      ]
     },
     "execution_count": 16,
     "metadata": {},
     "output_type": "execute_result"
    }
   ],
   "source": [
    "# threshold tuning\n",
    "optimal_idx = np.argmax(tpr - fpr)\n",
    "optimal_threshold = thresholds[optimal_idx]\n",
    "optimal_threshold"
   ]
  },
  {
   "cell_type": "code",
   "execution_count": 17,
   "id": "8a33344f",
   "metadata": {
    "execution": {
     "iopub.execute_input": "2024-09-07T00:40:14.575388Z",
     "iopub.status.busy": "2024-09-07T00:40:14.574972Z",
     "iopub.status.idle": "2024-09-07T00:40:14.607034Z",
     "shell.execute_reply": "2024-09-07T00:40:14.605986Z"
    },
    "papermill": {
     "duration": 0.781097,
     "end_time": "2024-09-07T00:40:14.609481",
     "exception": false,
     "start_time": "2024-09-07T00:40:13.828384",
     "status": "completed"
    },
    "tags": []
   },
   "outputs": [
    {
     "data": {
      "text/html": [
       "<pre style=\"white-space:pre;overflow-x:auto;line-height:normal;font-family:Menlo,'DejaVu Sans Mono',consolas,'Courier New',monospace\"><span style=\"font-weight: bold\">Model: \"sequential\"</span>\n",
       "</pre>\n"
      ],
      "text/plain": [
       "\u001b[1mModel: \"sequential\"\u001b[0m\n"
      ]
     },
     "metadata": {},
     "output_type": "display_data"
    },
    {
     "data": {
      "text/html": [
       "<pre style=\"white-space:pre;overflow-x:auto;line-height:normal;font-family:Menlo,'DejaVu Sans Mono',consolas,'Courier New',monospace\">┏━━━━━━━━━━━━━━━━━━━━━━━━━━━━━━━━━┳━━━━━━━━━━━━━━━━━━━━━━━━┳━━━━━━━━━━━━━━━┓\n",
       "┃<span style=\"font-weight: bold\"> Layer (type)                    </span>┃<span style=\"font-weight: bold\"> Output Shape           </span>┃<span style=\"font-weight: bold\">       Param # </span>┃\n",
       "┡━━━━━━━━━━━━━━━━━━━━━━━━━━━━━━━━━╇━━━━━━━━━━━━━━━━━━━━━━━━╇━━━━━━━━━━━━━━━┩\n",
       "│ dense (<span style=\"color: #0087ff; text-decoration-color: #0087ff\">Dense</span>)                   │ (<span style=\"color: #00d7ff; text-decoration-color: #00d7ff\">None</span>, <span style=\"color: #00af00; text-decoration-color: #00af00\">512</span>)            │         <span style=\"color: #00af00; text-decoration-color: #00af00\">4,608</span> │\n",
       "├─────────────────────────────────┼────────────────────────┼───────────────┤\n",
       "│ dropout (<span style=\"color: #0087ff; text-decoration-color: #0087ff\">Dropout</span>)               │ (<span style=\"color: #00d7ff; text-decoration-color: #00d7ff\">None</span>, <span style=\"color: #00af00; text-decoration-color: #00af00\">512</span>)            │             <span style=\"color: #00af00; text-decoration-color: #00af00\">0</span> │\n",
       "├─────────────────────────────────┼────────────────────────┼───────────────┤\n",
       "│ dense_1 (<span style=\"color: #0087ff; text-decoration-color: #0087ff\">Dense</span>)                 │ (<span style=\"color: #00d7ff; text-decoration-color: #00d7ff\">None</span>, <span style=\"color: #00af00; text-decoration-color: #00af00\">256</span>)            │       <span style=\"color: #00af00; text-decoration-color: #00af00\">131,328</span> │\n",
       "├─────────────────────────────────┼────────────────────────┼───────────────┤\n",
       "│ dropout_1 (<span style=\"color: #0087ff; text-decoration-color: #0087ff\">Dropout</span>)             │ (<span style=\"color: #00d7ff; text-decoration-color: #00d7ff\">None</span>, <span style=\"color: #00af00; text-decoration-color: #00af00\">256</span>)            │             <span style=\"color: #00af00; text-decoration-color: #00af00\">0</span> │\n",
       "├─────────────────────────────────┼────────────────────────┼───────────────┤\n",
       "│ dense_2 (<span style=\"color: #0087ff; text-decoration-color: #0087ff\">Dense</span>)                 │ (<span style=\"color: #00d7ff; text-decoration-color: #00d7ff\">None</span>, <span style=\"color: #00af00; text-decoration-color: #00af00\">128</span>)            │        <span style=\"color: #00af00; text-decoration-color: #00af00\">32,896</span> │\n",
       "├─────────────────────────────────┼────────────────────────┼───────────────┤\n",
       "│ dropout_2 (<span style=\"color: #0087ff; text-decoration-color: #0087ff\">Dropout</span>)             │ (<span style=\"color: #00d7ff; text-decoration-color: #00d7ff\">None</span>, <span style=\"color: #00af00; text-decoration-color: #00af00\">128</span>)            │             <span style=\"color: #00af00; text-decoration-color: #00af00\">0</span> │\n",
       "├─────────────────────────────────┼────────────────────────┼───────────────┤\n",
       "│ dense_3 (<span style=\"color: #0087ff; text-decoration-color: #0087ff\">Dense</span>)                 │ (<span style=\"color: #00d7ff; text-decoration-color: #00d7ff\">None</span>, <span style=\"color: #00af00; text-decoration-color: #00af00\">64</span>)             │         <span style=\"color: #00af00; text-decoration-color: #00af00\">8,256</span> │\n",
       "├─────────────────────────────────┼────────────────────────┼───────────────┤\n",
       "│ dropout_3 (<span style=\"color: #0087ff; text-decoration-color: #0087ff\">Dropout</span>)             │ (<span style=\"color: #00d7ff; text-decoration-color: #00d7ff\">None</span>, <span style=\"color: #00af00; text-decoration-color: #00af00\">64</span>)             │             <span style=\"color: #00af00; text-decoration-color: #00af00\">0</span> │\n",
       "├─────────────────────────────────┼────────────────────────┼───────────────┤\n",
       "│ dense_4 (<span style=\"color: #0087ff; text-decoration-color: #0087ff\">Dense</span>)                 │ (<span style=\"color: #00d7ff; text-decoration-color: #00d7ff\">None</span>, <span style=\"color: #00af00; text-decoration-color: #00af00\">1</span>)              │            <span style=\"color: #00af00; text-decoration-color: #00af00\">65</span> │\n",
       "└─────────────────────────────────┴────────────────────────┴───────────────┘\n",
       "</pre>\n"
      ],
      "text/plain": [
       "┏━━━━━━━━━━━━━━━━━━━━━━━━━━━━━━━━━┳━━━━━━━━━━━━━━━━━━━━━━━━┳━━━━━━━━━━━━━━━┓\n",
       "┃\u001b[1m \u001b[0m\u001b[1mLayer (type)                   \u001b[0m\u001b[1m \u001b[0m┃\u001b[1m \u001b[0m\u001b[1mOutput Shape          \u001b[0m\u001b[1m \u001b[0m┃\u001b[1m \u001b[0m\u001b[1m      Param #\u001b[0m\u001b[1m \u001b[0m┃\n",
       "┡━━━━━━━━━━━━━━━━━━━━━━━━━━━━━━━━━╇━━━━━━━━━━━━━━━━━━━━━━━━╇━━━━━━━━━━━━━━━┩\n",
       "│ dense (\u001b[38;5;33mDense\u001b[0m)                   │ (\u001b[38;5;45mNone\u001b[0m, \u001b[38;5;34m512\u001b[0m)            │         \u001b[38;5;34m4,608\u001b[0m │\n",
       "├─────────────────────────────────┼────────────────────────┼───────────────┤\n",
       "│ dropout (\u001b[38;5;33mDropout\u001b[0m)               │ (\u001b[38;5;45mNone\u001b[0m, \u001b[38;5;34m512\u001b[0m)            │             \u001b[38;5;34m0\u001b[0m │\n",
       "├─────────────────────────────────┼────────────────────────┼───────────────┤\n",
       "│ dense_1 (\u001b[38;5;33mDense\u001b[0m)                 │ (\u001b[38;5;45mNone\u001b[0m, \u001b[38;5;34m256\u001b[0m)            │       \u001b[38;5;34m131,328\u001b[0m │\n",
       "├─────────────────────────────────┼────────────────────────┼───────────────┤\n",
       "│ dropout_1 (\u001b[38;5;33mDropout\u001b[0m)             │ (\u001b[38;5;45mNone\u001b[0m, \u001b[38;5;34m256\u001b[0m)            │             \u001b[38;5;34m0\u001b[0m │\n",
       "├─────────────────────────────────┼────────────────────────┼───────────────┤\n",
       "│ dense_2 (\u001b[38;5;33mDense\u001b[0m)                 │ (\u001b[38;5;45mNone\u001b[0m, \u001b[38;5;34m128\u001b[0m)            │        \u001b[38;5;34m32,896\u001b[0m │\n",
       "├─────────────────────────────────┼────────────────────────┼───────────────┤\n",
       "│ dropout_2 (\u001b[38;5;33mDropout\u001b[0m)             │ (\u001b[38;5;45mNone\u001b[0m, \u001b[38;5;34m128\u001b[0m)            │             \u001b[38;5;34m0\u001b[0m │\n",
       "├─────────────────────────────────┼────────────────────────┼───────────────┤\n",
       "│ dense_3 (\u001b[38;5;33mDense\u001b[0m)                 │ (\u001b[38;5;45mNone\u001b[0m, \u001b[38;5;34m64\u001b[0m)             │         \u001b[38;5;34m8,256\u001b[0m │\n",
       "├─────────────────────────────────┼────────────────────────┼───────────────┤\n",
       "│ dropout_3 (\u001b[38;5;33mDropout\u001b[0m)             │ (\u001b[38;5;45mNone\u001b[0m, \u001b[38;5;34m64\u001b[0m)             │             \u001b[38;5;34m0\u001b[0m │\n",
       "├─────────────────────────────────┼────────────────────────┼───────────────┤\n",
       "│ dense_4 (\u001b[38;5;33mDense\u001b[0m)                 │ (\u001b[38;5;45mNone\u001b[0m, \u001b[38;5;34m1\u001b[0m)              │            \u001b[38;5;34m65\u001b[0m │\n",
       "└─────────────────────────────────┴────────────────────────┴───────────────┘\n"
      ]
     },
     "metadata": {},
     "output_type": "display_data"
    },
    {
     "data": {
      "text/html": [
       "<pre style=\"white-space:pre;overflow-x:auto;line-height:normal;font-family:Menlo,'DejaVu Sans Mono',consolas,'Courier New',monospace\"><span style=\"font-weight: bold\"> Total params: </span><span style=\"color: #00af00; text-decoration-color: #00af00\">531,461</span> (2.03 MB)\n",
       "</pre>\n"
      ],
      "text/plain": [
       "\u001b[1m Total params: \u001b[0m\u001b[38;5;34m531,461\u001b[0m (2.03 MB)\n"
      ]
     },
     "metadata": {},
     "output_type": "display_data"
    },
    {
     "data": {
      "text/html": [
       "<pre style=\"white-space:pre;overflow-x:auto;line-height:normal;font-family:Menlo,'DejaVu Sans Mono',consolas,'Courier New',monospace\"><span style=\"font-weight: bold\"> Trainable params: </span><span style=\"color: #00af00; text-decoration-color: #00af00\">177,153</span> (692.00 KB)\n",
       "</pre>\n"
      ],
      "text/plain": [
       "\u001b[1m Trainable params: \u001b[0m\u001b[38;5;34m177,153\u001b[0m (692.00 KB)\n"
      ]
     },
     "metadata": {},
     "output_type": "display_data"
    },
    {
     "data": {
      "text/html": [
       "<pre style=\"white-space:pre;overflow-x:auto;line-height:normal;font-family:Menlo,'DejaVu Sans Mono',consolas,'Courier New',monospace\"><span style=\"font-weight: bold\"> Non-trainable params: </span><span style=\"color: #00af00; text-decoration-color: #00af00\">0</span> (0.00 B)\n",
       "</pre>\n"
      ],
      "text/plain": [
       "\u001b[1m Non-trainable params: \u001b[0m\u001b[38;5;34m0\u001b[0m (0.00 B)\n"
      ]
     },
     "metadata": {},
     "output_type": "display_data"
    },
    {
     "data": {
      "text/html": [
       "<pre style=\"white-space:pre;overflow-x:auto;line-height:normal;font-family:Menlo,'DejaVu Sans Mono',consolas,'Courier New',monospace\"><span style=\"font-weight: bold\"> Optimizer params: </span><span style=\"color: #00af00; text-decoration-color: #00af00\">354,308</span> (1.35 MB)\n",
       "</pre>\n"
      ],
      "text/plain": [
       "\u001b[1m Optimizer params: \u001b[0m\u001b[38;5;34m354,308\u001b[0m (1.35 MB)\n"
      ]
     },
     "metadata": {},
     "output_type": "display_data"
    }
   ],
   "source": [
    "model.summary()"
   ]
  },
  {
   "cell_type": "markdown",
   "id": "8beffd0d",
   "metadata": {
    "papermill": {
     "duration": 0.710645,
     "end_time": "2024-09-07T00:40:15.994104",
     "exception": false,
     "start_time": "2024-09-07T00:40:15.283459",
     "status": "completed"
    },
    "tags": []
   },
   "source": [
    "# 7) Model Refit"
   ]
  },
  {
   "cell_type": "code",
   "execution_count": 18,
   "id": "a1729f39",
   "metadata": {
    "execution": {
     "iopub.execute_input": "2024-09-07T00:40:17.461830Z",
     "iopub.status.busy": "2024-09-07T00:40:17.461364Z",
     "iopub.status.idle": "2024-09-07T00:46:04.524684Z",
     "shell.execute_reply": "2024-09-07T00:46:04.523390Z"
    },
    "papermill": {
     "duration": 348.494949,
     "end_time": "2024-09-07T00:46:05.204432",
     "exception": false,
     "start_time": "2024-09-07T00:40:16.709483",
     "status": "completed"
    },
    "tags": []
   },
   "outputs": [
    {
     "name": "stdout",
     "output_type": "stream",
     "text": [
      "CPU times: user 17min 35s, sys: 37.4 s, total: 18min 12s\n",
      "Wall time: 5min 47s\n"
     ]
    }
   ],
   "source": [
    "%%time\n",
    "history = model.fit(\n",
    "    prep.fit_transform(X), y,\n",
    "    epochs=15,\n",
    "    batch_size=1024,  \n",
    "    validation_split=0.1,\n",
    "    callbacks=[early_stopping, reduce_lr],\n",
    "    verbose=0\n",
    ")"
   ]
  },
  {
   "cell_type": "markdown",
   "id": "ce0ec8af",
   "metadata": {
    "execution": {
     "iopub.execute_input": "2024-07-12T04:49:09.605185Z",
     "iopub.status.busy": "2024-07-12T04:49:09.604042Z",
     "iopub.status.idle": "2024-07-12T04:49:09.609618Z",
     "shell.execute_reply": "2024-07-12T04:49:09.608365Z",
     "shell.execute_reply.started": "2024-07-12T04:49:09.605131Z"
    },
    "papermill": {
     "duration": 0.75186,
     "end_time": "2024-09-07T00:46:06.631580",
     "exception": false,
     "start_time": "2024-09-07T00:46:05.879720",
     "status": "completed"
    },
    "tags": []
   },
   "source": [
    "# 8) Submission\n",
    "Here comes my very first submission:"
   ]
  },
  {
   "cell_type": "code",
   "execution_count": 19,
   "id": "ea4a5fba",
   "metadata": {
    "execution": {
     "iopub.execute_input": "2024-09-07T00:46:07.990493Z",
     "iopub.status.busy": "2024-09-07T00:46:07.989717Z",
     "iopub.status.idle": "2024-09-07T00:55:21.028088Z",
     "shell.execute_reply": "2024-09-07T00:55:21.027027Z"
    },
    "papermill": {
     "duration": 554.578637,
     "end_time": "2024-09-07T00:55:21.889795",
     "exception": false,
     "start_time": "2024-09-07T00:46:07.311158",
     "status": "completed"
    },
    "tags": []
   },
   "outputs": [
    {
     "name": "stdout",
     "output_type": "stream",
     "text": [
      "CPU times: user 10min 53s, sys: 52.3 s, total: 11min 46s\n",
      "Wall time: 9min 13s\n"
     ]
    },
    {
     "data": {
      "text/html": [
       "<div>\n",
       "<style scoped>\n",
       "    .dataframe tbody tr th:only-of-type {\n",
       "        vertical-align: middle;\n",
       "    }\n",
       "\n",
       "    .dataframe tbody tr th {\n",
       "        vertical-align: top;\n",
       "    }\n",
       "\n",
       "    .dataframe thead th {\n",
       "        text-align: right;\n",
       "    }\n",
       "</style>\n",
       "<table border=\"1\" class=\"dataframe\">\n",
       "  <thead>\n",
       "    <tr style=\"text-align: right;\">\n",
       "      <th></th>\n",
       "      <th>id</th>\n",
       "      <th>Response</th>\n",
       "    </tr>\n",
       "  </thead>\n",
       "  <tbody>\n",
       "    <tr>\n",
       "      <th>0</th>\n",
       "      <td>11504798</td>\n",
       "      <td>0.10</td>\n",
       "    </tr>\n",
       "    <tr>\n",
       "      <th>1</th>\n",
       "      <td>11504799</td>\n",
       "      <td>0.73</td>\n",
       "    </tr>\n",
       "    <tr>\n",
       "      <th>2</th>\n",
       "      <td>11504800</td>\n",
       "      <td>0.66</td>\n",
       "    </tr>\n",
       "    <tr>\n",
       "      <th>3</th>\n",
       "      <td>11504801</td>\n",
       "      <td>0.00</td>\n",
       "    </tr>\n",
       "    <tr>\n",
       "      <th>4</th>\n",
       "      <td>11504802</td>\n",
       "      <td>0.14</td>\n",
       "    </tr>\n",
       "    <tr>\n",
       "      <th>...</th>\n",
       "      <td>...</td>\n",
       "      <td>...</td>\n",
       "    </tr>\n",
       "    <tr>\n",
       "      <th>7669861</th>\n",
       "      <td>19174659</td>\n",
       "      <td>0.63</td>\n",
       "    </tr>\n",
       "    <tr>\n",
       "      <th>7669862</th>\n",
       "      <td>19174660</td>\n",
       "      <td>0.00</td>\n",
       "    </tr>\n",
       "    <tr>\n",
       "      <th>7669863</th>\n",
       "      <td>19174661</td>\n",
       "      <td>0.00</td>\n",
       "    </tr>\n",
       "    <tr>\n",
       "      <th>7669864</th>\n",
       "      <td>19174662</td>\n",
       "      <td>0.76</td>\n",
       "    </tr>\n",
       "    <tr>\n",
       "      <th>7669865</th>\n",
       "      <td>19174663</td>\n",
       "      <td>0.00</td>\n",
       "    </tr>\n",
       "  </tbody>\n",
       "</table>\n",
       "<p>7669866 rows × 2 columns</p>\n",
       "</div>"
      ],
      "text/plain": [
       "               id  Response\n",
       "0        11504798      0.10\n",
       "1        11504799      0.73\n",
       "2        11504800      0.66\n",
       "3        11504801      0.00\n",
       "4        11504802      0.14\n",
       "...           ...       ...\n",
       "7669861  19174659      0.63\n",
       "7669862  19174660      0.00\n",
       "7669863  19174661      0.00\n",
       "7669864  19174662      0.76\n",
       "7669865  19174663      0.00\n",
       "\n",
       "[7669866 rows x 2 columns]"
      ]
     },
     "execution_count": 19,
     "metadata": {},
     "output_type": "execute_result"
    }
   ],
   "source": [
    "%%time\n",
    "test = pd.read_csv('/kaggle/input/playground-series-s4e7/test.csv')\n",
    "y_hat = model.predict(pd.DataFrame(prep.fit_transform(data_clean(test))), verbose=0)\n",
    "\n",
    "submission = pd.DataFrame(test.reset_index().id).assign(Response=y_hat)\n",
    "submission"
   ]
  }
 ],
 "metadata": {
  "kaggle": {
   "accelerator": "none",
   "dataSources": [
    {
     "databundleVersionId": 8930475,
     "sourceId": 73291,
     "sourceType": "competition"
    }
   ],
   "dockerImageVersionId": 30746,
   "isGpuEnabled": false,
   "isInternetEnabled": true,
   "language": "python",
   "sourceType": "notebook"
  },
  "kernelspec": {
   "display_name": "Python 3",
   "language": "python",
   "name": "python3"
  },
  "language_info": {
   "codemirror_mode": {
    "name": "ipython",
    "version": 3
   },
   "file_extension": ".py",
   "mimetype": "text/x-python",
   "name": "python",
   "nbconvert_exporter": "python",
   "pygments_lexer": "ipython3",
   "version": "3.8.8"
  },
  "papermill": {
   "default_parameters": {},
   "duration": 1651.145956,
   "end_time": "2024-09-07T00:55:25.409681",
   "environment_variables": {},
   "exception": null,
   "input_path": "__notebook__.ipynb",
   "output_path": "__notebook__.ipynb",
   "parameters": {},
   "start_time": "2024-09-07T00:27:54.263725",
   "version": "2.5.0"
  }
 },
 "nbformat": 4,
 "nbformat_minor": 5
}
