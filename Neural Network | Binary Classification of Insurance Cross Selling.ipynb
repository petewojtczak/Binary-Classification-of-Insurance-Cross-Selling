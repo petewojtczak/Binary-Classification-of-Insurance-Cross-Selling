{
 "cells": [
  {
   "cell_type": "code",
   "execution_count": 1,
   "id": "6783968e",
   "metadata": {},
   "outputs": [],
   "source": []
  },
  {
   "cell_type": "markdown",
   "id": "a0cdd292",
   "metadata": {},
   "source": [
    "## Contents\n",
    "1. **Data overview** <br> _We begin this study by conducting an exploratory analysis of the raw dataset using basic descriptive statistics to get a quick sense of the data._\n",
    "2. **Data Cleaning** <br> _We then proceed to exclude suspicious features and employ a straightforward approach to achieve a balanced target dataset quickly._\n",
    "3. **Significance tests** <br> _Next, we apply non-parametric statistical tests to assess the significance of features, relying on the large training sample to handle the majority of the work._\n",
    "4. **Preprocessing** <br> _Subsequently, essential preprocessing steps are implemented to scale and encode the data into a format suitable for neural network._\n",
    "5. **Deep Learning** <br> _Neural network weights estimation with backpropagation._\n",
    "6. **Evaluation** <br> _Metrics calculation, visualizing the confusion matrix, and plotting the ROC curve to assess its predictive capability._"
   ]
  },
  {
   "cell_type": "markdown",
   "id": "cc624583",
   "metadata": {},
   "source": [
    "# 1) Data overview"
   ]
  },
  {
   "cell_type": "code",
   "execution_count": null,
   "id": "2c7a9d94",
   "metadata": {},
   "outputs": [],
   "source": [
    "import time\n",
    "import numpy as np\n",
    "import pandas as pd"
   ]
  },
  {
   "cell_type": "code",
   "execution_count": 2,
   "id": "2f62fc37",
   "metadata": {},
   "outputs": [
    {
     "name": "stdout",
     "output_type": "stream",
     "text": [
      "CPU times: user 20.3 s, sys: 2.12 s, total: 22.4 s\n",
      "Wall time: 22.4 s\n"
     ]
    },
    {
     "data": {
      "text/plain": [
       "((11504798, 12), (7669866, 11), False, False, 0, 0)"
      ]
     },
     "execution_count": 2,
     "metadata": {},
     "output_type": "execute_result"
    }
   ],
   "source": [
    "%%time\n",
    "train = pd.read_csv('/home/petewojtczak/Desktop/auto_insurance_clf/train.csv')\n",
    "test = pd.read_csv('/home/petewojtczak/Desktop/auto_insurance_clf/test.csv')\n",
    "train.shape, test.shape, train.isnull().values.any(), test.isnull().values.any(), train.duplicated().sum(), test.duplicated().sum()"
   ]
  },
  {
   "cell_type": "code",
   "execution_count": 3,
   "id": "a5103d75",
   "metadata": {},
   "outputs": [
    {
     "data": {
      "text/html": [
       "<div>\n",
       "<style scoped>\n",
       "    .dataframe tbody tr th:only-of-type {\n",
       "        vertical-align: middle;\n",
       "    }\n",
       "\n",
       "    .dataframe tbody tr th {\n",
       "        vertical-align: top;\n",
       "    }\n",
       "\n",
       "    .dataframe thead th {\n",
       "        text-align: right;\n",
       "    }\n",
       "</style>\n",
       "<table border=\"1\" class=\"dataframe\">\n",
       "  <thead>\n",
       "    <tr style=\"text-align: right;\">\n",
       "      <th></th>\n",
       "      <th>id</th>\n",
       "      <th>Gender</th>\n",
       "      <th>Age</th>\n",
       "      <th>Driving_License</th>\n",
       "      <th>Region_Code</th>\n",
       "      <th>Previously_Insured</th>\n",
       "      <th>Vehicle_Age</th>\n",
       "      <th>Vehicle_Damage</th>\n",
       "      <th>Annual_Premium</th>\n",
       "      <th>Policy_Sales_Channel</th>\n",
       "      <th>Vintage</th>\n",
       "      <th>Response</th>\n",
       "    </tr>\n",
       "  </thead>\n",
       "  <tbody>\n",
       "    <tr>\n",
       "      <th>1332101</th>\n",
       "      <td>1332101</td>\n",
       "      <td>Male</td>\n",
       "      <td>41</td>\n",
       "      <td>1</td>\n",
       "      <td>28.0</td>\n",
       "      <td>0</td>\n",
       "      <td>1-2 Year</td>\n",
       "      <td>Yes</td>\n",
       "      <td>38702.0</td>\n",
       "      <td>124.0</td>\n",
       "      <td>21</td>\n",
       "      <td>0</td>\n",
       "    </tr>\n",
       "    <tr>\n",
       "      <th>2631432</th>\n",
       "      <td>2631432</td>\n",
       "      <td>Male</td>\n",
       "      <td>27</td>\n",
       "      <td>1</td>\n",
       "      <td>26.0</td>\n",
       "      <td>1</td>\n",
       "      <td>&lt; 1 Year</td>\n",
       "      <td>No</td>\n",
       "      <td>2630.0</td>\n",
       "      <td>152.0</td>\n",
       "      <td>153</td>\n",
       "      <td>0</td>\n",
       "    </tr>\n",
       "    <tr>\n",
       "      <th>435060</th>\n",
       "      <td>435060</td>\n",
       "      <td>Male</td>\n",
       "      <td>53</td>\n",
       "      <td>1</td>\n",
       "      <td>28.0</td>\n",
       "      <td>0</td>\n",
       "      <td>1-2 Year</td>\n",
       "      <td>Yes</td>\n",
       "      <td>47930.0</td>\n",
       "      <td>26.0</td>\n",
       "      <td>31</td>\n",
       "      <td>0</td>\n",
       "    </tr>\n",
       "  </tbody>\n",
       "</table>\n",
       "</div>"
      ],
      "text/plain": [
       "              id Gender  Age  Driving_License  Region_Code  \\\n",
       "1332101  1332101   Male   41                1         28.0   \n",
       "2631432  2631432   Male   27                1         26.0   \n",
       "435060    435060   Male   53                1         28.0   \n",
       "\n",
       "         Previously_Insured Vehicle_Age Vehicle_Damage  Annual_Premium  \\\n",
       "1332101                   0    1-2 Year            Yes         38702.0   \n",
       "2631432                   1    < 1 Year             No          2630.0   \n",
       "435060                    0    1-2 Year            Yes         47930.0   \n",
       "\n",
       "         Policy_Sales_Channel  Vintage  Response  \n",
       "1332101                 124.0       21         0  \n",
       "2631432                 152.0      153         0  \n",
       "435060                   26.0       31         0  "
      ]
     },
     "execution_count": 3,
     "metadata": {},
     "output_type": "execute_result"
    }
   ],
   "source": [
    "train.sample(3)"
   ]
  },
  {
   "cell_type": "code",
   "execution_count": 4,
   "id": "6f90fa46",
   "metadata": {},
   "outputs": [
    {
     "data": {
      "text/html": [
       "<div>\n",
       "<style scoped>\n",
       "    .dataframe tbody tr th:only-of-type {\n",
       "        vertical-align: middle;\n",
       "    }\n",
       "\n",
       "    .dataframe tbody tr th {\n",
       "        vertical-align: top;\n",
       "    }\n",
       "\n",
       "    .dataframe thead th {\n",
       "        text-align: right;\n",
       "    }\n",
       "</style>\n",
       "<table border=\"1\" class=\"dataframe\">\n",
       "  <thead>\n",
       "    <tr style=\"text-align: right;\">\n",
       "      <th></th>\n",
       "      <th>id</th>\n",
       "      <th>Gender</th>\n",
       "      <th>Age</th>\n",
       "      <th>Driving_License</th>\n",
       "      <th>Region_Code</th>\n",
       "      <th>Previously_Insured</th>\n",
       "      <th>Vehicle_Age</th>\n",
       "      <th>Vehicle_Damage</th>\n",
       "      <th>Annual_Premium</th>\n",
       "      <th>Policy_Sales_Channel</th>\n",
       "      <th>Vintage</th>\n",
       "    </tr>\n",
       "  </thead>\n",
       "  <tbody>\n",
       "    <tr>\n",
       "      <th>2361556</th>\n",
       "      <td>13866354</td>\n",
       "      <td>Male</td>\n",
       "      <td>53</td>\n",
       "      <td>1</td>\n",
       "      <td>28.0</td>\n",
       "      <td>1</td>\n",
       "      <td>1-2 Year</td>\n",
       "      <td>No</td>\n",
       "      <td>47382.0</td>\n",
       "      <td>124.0</td>\n",
       "      <td>75</td>\n",
       "    </tr>\n",
       "    <tr>\n",
       "      <th>2157940</th>\n",
       "      <td>13662738</td>\n",
       "      <td>Female</td>\n",
       "      <td>37</td>\n",
       "      <td>1</td>\n",
       "      <td>28.0</td>\n",
       "      <td>0</td>\n",
       "      <td>1-2 Year</td>\n",
       "      <td>Yes</td>\n",
       "      <td>44163.0</td>\n",
       "      <td>29.0</td>\n",
       "      <td>129</td>\n",
       "    </tr>\n",
       "    <tr>\n",
       "      <th>5310178</th>\n",
       "      <td>16814976</td>\n",
       "      <td>Male</td>\n",
       "      <td>41</td>\n",
       "      <td>1</td>\n",
       "      <td>28.0</td>\n",
       "      <td>0</td>\n",
       "      <td>1-2 Year</td>\n",
       "      <td>No</td>\n",
       "      <td>37222.0</td>\n",
       "      <td>124.0</td>\n",
       "      <td>99</td>\n",
       "    </tr>\n",
       "  </tbody>\n",
       "</table>\n",
       "</div>"
      ],
      "text/plain": [
       "               id  Gender  Age  Driving_License  Region_Code  \\\n",
       "2361556  13866354    Male   53                1         28.0   \n",
       "2157940  13662738  Female   37                1         28.0   \n",
       "5310178  16814976    Male   41                1         28.0   \n",
       "\n",
       "         Previously_Insured Vehicle_Age Vehicle_Damage  Annual_Premium  \\\n",
       "2361556                   1    1-2 Year             No         47382.0   \n",
       "2157940                   0    1-2 Year            Yes         44163.0   \n",
       "5310178                   0    1-2 Year             No         37222.0   \n",
       "\n",
       "         Policy_Sales_Channel  Vintage  \n",
       "2361556                 124.0       75  \n",
       "2157940                  29.0      129  \n",
       "5310178                 124.0       99  "
      ]
     },
     "execution_count": 4,
     "metadata": {},
     "output_type": "execute_result"
    }
   ],
   "source": [
    "test.sample(3)"
   ]
  },
  {
   "cell_type": "code",
   "execution_count": 5,
   "id": "1df7c68b",
   "metadata": {},
   "outputs": [
    {
     "data": {
      "text/plain": [
       "0    0.877003\n",
       "1    0.122997\n",
       "Name: Response, dtype: float64"
      ]
     },
     "execution_count": 5,
     "metadata": {},
     "output_type": "execute_result"
    }
   ],
   "source": [
    "# imbalanced target variable\n",
    "train.Response.value_counts(normalize=True)"
   ]
  },
  {
   "cell_type": "code",
   "execution_count": 6,
   "id": "162359f2",
   "metadata": {},
   "outputs": [
    {
     "data": {
      "text/html": [
       "<div>\n",
       "<style scoped>\n",
       "    .dataframe tbody tr th:only-of-type {\n",
       "        vertical-align: middle;\n",
       "    }\n",
       "\n",
       "    .dataframe tbody tr th {\n",
       "        vertical-align: top;\n",
       "    }\n",
       "\n",
       "    .dataframe thead th {\n",
       "        text-align: right;\n",
       "    }\n",
       "</style>\n",
       "<table border=\"1\" class=\"dataframe\">\n",
       "  <thead>\n",
       "    <tr style=\"text-align: right;\">\n",
       "      <th></th>\n",
       "      <th>id</th>\n",
       "      <th>Age</th>\n",
       "      <th>Driving_License</th>\n",
       "      <th>Region_Code</th>\n",
       "      <th>Previously_Insured</th>\n",
       "      <th>Annual_Premium</th>\n",
       "      <th>Policy_Sales_Channel</th>\n",
       "      <th>Vintage</th>\n",
       "      <th>Response</th>\n",
       "    </tr>\n",
       "  </thead>\n",
       "  <tbody>\n",
       "    <tr>\n",
       "      <th>count</th>\n",
       "      <td>11504798.000</td>\n",
       "      <td>11504798.000</td>\n",
       "      <td>11504798.000</td>\n",
       "      <td>11504798.000</td>\n",
       "      <td>11504798.000</td>\n",
       "      <td>11504798.000</td>\n",
       "      <td>11504798.000</td>\n",
       "      <td>11504798.000</td>\n",
       "      <td>11504798.000</td>\n",
       "    </tr>\n",
       "    <tr>\n",
       "      <th>mean</th>\n",
       "      <td>5752398.500</td>\n",
       "      <td>38.384</td>\n",
       "      <td>0.998</td>\n",
       "      <td>26.419</td>\n",
       "      <td>0.463</td>\n",
       "      <td>30461.370</td>\n",
       "      <td>112.425</td>\n",
       "      <td>163.898</td>\n",
       "      <td>0.123</td>\n",
       "    </tr>\n",
       "    <tr>\n",
       "      <th>std</th>\n",
       "      <td>3321149.255</td>\n",
       "      <td>14.993</td>\n",
       "      <td>0.044</td>\n",
       "      <td>12.992</td>\n",
       "      <td>0.499</td>\n",
       "      <td>16454.745</td>\n",
       "      <td>54.036</td>\n",
       "      <td>79.980</td>\n",
       "      <td>0.328</td>\n",
       "    </tr>\n",
       "    <tr>\n",
       "      <th>min</th>\n",
       "      <td>0.000</td>\n",
       "      <td>20.000</td>\n",
       "      <td>0.000</td>\n",
       "      <td>0.000</td>\n",
       "      <td>0.000</td>\n",
       "      <td>2630.000</td>\n",
       "      <td>1.000</td>\n",
       "      <td>10.000</td>\n",
       "      <td>0.000</td>\n",
       "    </tr>\n",
       "    <tr>\n",
       "      <th>25%</th>\n",
       "      <td>2876199.250</td>\n",
       "      <td>24.000</td>\n",
       "      <td>1.000</td>\n",
       "      <td>15.000</td>\n",
       "      <td>0.000</td>\n",
       "      <td>25277.000</td>\n",
       "      <td>29.000</td>\n",
       "      <td>99.000</td>\n",
       "      <td>0.000</td>\n",
       "    </tr>\n",
       "    <tr>\n",
       "      <th>50%</th>\n",
       "      <td>5752398.500</td>\n",
       "      <td>36.000</td>\n",
       "      <td>1.000</td>\n",
       "      <td>28.000</td>\n",
       "      <td>0.000</td>\n",
       "      <td>31824.000</td>\n",
       "      <td>151.000</td>\n",
       "      <td>166.000</td>\n",
       "      <td>0.000</td>\n",
       "    </tr>\n",
       "    <tr>\n",
       "      <th>75%</th>\n",
       "      <td>8628597.750</td>\n",
       "      <td>49.000</td>\n",
       "      <td>1.000</td>\n",
       "      <td>35.000</td>\n",
       "      <td>1.000</td>\n",
       "      <td>39451.000</td>\n",
       "      <td>152.000</td>\n",
       "      <td>232.000</td>\n",
       "      <td>0.000</td>\n",
       "    </tr>\n",
       "    <tr>\n",
       "      <th>max</th>\n",
       "      <td>11504797.000</td>\n",
       "      <td>85.000</td>\n",
       "      <td>1.000</td>\n",
       "      <td>52.000</td>\n",
       "      <td>1.000</td>\n",
       "      <td>540165.000</td>\n",
       "      <td>163.000</td>\n",
       "      <td>299.000</td>\n",
       "      <td>1.000</td>\n",
       "    </tr>\n",
       "  </tbody>\n",
       "</table>\n",
       "</div>"
      ],
      "text/plain": [
       "                id          Age  Driving_License  Region_Code  \\\n",
       "count 11504798.000 11504798.000     11504798.000 11504798.000   \n",
       "mean   5752398.500       38.384            0.998       26.419   \n",
       "std    3321149.255       14.993            0.044       12.992   \n",
       "min          0.000       20.000            0.000        0.000   \n",
       "25%    2876199.250       24.000            1.000       15.000   \n",
       "50%    5752398.500       36.000            1.000       28.000   \n",
       "75%    8628597.750       49.000            1.000       35.000   \n",
       "max   11504797.000       85.000            1.000       52.000   \n",
       "\n",
       "       Previously_Insured  Annual_Premium  Policy_Sales_Channel      Vintage  \\\n",
       "count        11504798.000    11504798.000          11504798.000 11504798.000   \n",
       "mean                0.463       30461.370               112.425      163.898   \n",
       "std                 0.499       16454.745                54.036       79.980   \n",
       "min                 0.000        2630.000                 1.000       10.000   \n",
       "25%                 0.000       25277.000                29.000       99.000   \n",
       "50%                 0.000       31824.000               151.000      166.000   \n",
       "75%                 1.000       39451.000               152.000      232.000   \n",
       "max                 1.000      540165.000               163.000      299.000   \n",
       "\n",
       "          Response  \n",
       "count 11504798.000  \n",
       "mean         0.123  \n",
       "std          0.328  \n",
       "min          0.000  \n",
       "25%          0.000  \n",
       "50%          0.000  \n",
       "75%          0.000  \n",
       "max          1.000  "
      ]
     },
     "execution_count": 6,
     "metadata": {},
     "output_type": "execute_result"
    }
   ],
   "source": [
    "pd.set_option('display.float_format', lambda x: '%.3f' % x)\n",
    "train.describe()"
   ]
  },
  {
   "cell_type": "markdown",
   "id": "28789d7b",
   "metadata": {},
   "source": [
    "# 2) Data Cleaning"
   ]
  },
  {
   "cell_type": "code",
   "execution_count": 7,
   "id": "ca529e4a",
   "metadata": {},
   "outputs": [],
   "source": [
    "train.set_index('id', inplace=True)"
   ]
  },
  {
   "cell_type": "code",
   "execution_count": 8,
   "id": "0363df78",
   "metadata": {},
   "outputs": [],
   "source": [
    "# according to train.describe() 'Driving_License' is invariant\n",
    "train.drop(columns=['Driving_License'], inplace=True)"
   ]
  },
  {
   "cell_type": "code",
   "execution_count": 9,
   "id": "6ade9411",
   "metadata": {},
   "outputs": [
    {
     "data": {
      "text/html": [
       "<div>\n",
       "<style scoped>\n",
       "    .dataframe tbody tr th:only-of-type {\n",
       "        vertical-align: middle;\n",
       "    }\n",
       "\n",
       "    .dataframe tbody tr th {\n",
       "        vertical-align: top;\n",
       "    }\n",
       "\n",
       "    .dataframe thead th {\n",
       "        text-align: right;\n",
       "    }\n",
       "</style>\n",
       "<table border=\"1\" class=\"dataframe\">\n",
       "  <thead>\n",
       "    <tr style=\"text-align: right;\">\n",
       "      <th></th>\n",
       "      <th>dtype</th>\n",
       "      <th>unique_val</th>\n",
       "    </tr>\n",
       "    <tr>\n",
       "      <th>feature</th>\n",
       "      <th></th>\n",
       "      <th></th>\n",
       "    </tr>\n",
       "  </thead>\n",
       "  <tbody>\n",
       "    <tr>\n",
       "      <th>Annual_Premium</th>\n",
       "      <td>float64</td>\n",
       "      <td>51728</td>\n",
       "    </tr>\n",
       "    <tr>\n",
       "      <th>Vintage</th>\n",
       "      <td>int64</td>\n",
       "      <td>290</td>\n",
       "    </tr>\n",
       "    <tr>\n",
       "      <th>Policy_Sales_Channel</th>\n",
       "      <td>float64</td>\n",
       "      <td>152</td>\n",
       "    </tr>\n",
       "    <tr>\n",
       "      <th>Age</th>\n",
       "      <td>int64</td>\n",
       "      <td>66</td>\n",
       "    </tr>\n",
       "    <tr>\n",
       "      <th>Region_Code</th>\n",
       "      <td>float64</td>\n",
       "      <td>54</td>\n",
       "    </tr>\n",
       "    <tr>\n",
       "      <th>Vehicle_Age</th>\n",
       "      <td>object</td>\n",
       "      <td>3</td>\n",
       "    </tr>\n",
       "    <tr>\n",
       "      <th>Gender</th>\n",
       "      <td>object</td>\n",
       "      <td>2</td>\n",
       "    </tr>\n",
       "    <tr>\n",
       "      <th>Previously_Insured</th>\n",
       "      <td>int64</td>\n",
       "      <td>2</td>\n",
       "    </tr>\n",
       "    <tr>\n",
       "      <th>Vehicle_Damage</th>\n",
       "      <td>object</td>\n",
       "      <td>2</td>\n",
       "    </tr>\n",
       "    <tr>\n",
       "      <th>Response</th>\n",
       "      <td>int64</td>\n",
       "      <td>2</td>\n",
       "    </tr>\n",
       "  </tbody>\n",
       "</table>\n",
       "</div>"
      ],
      "text/plain": [
       "                        dtype  unique_val\n",
       "feature                                  \n",
       "Annual_Premium        float64       51728\n",
       "Vintage                 int64         290\n",
       "Policy_Sales_Channel  float64         152\n",
       "Age                     int64          66\n",
       "Region_Code           float64          54\n",
       "Vehicle_Age            object           3\n",
       "Gender                 object           2\n",
       "Previously_Insured      int64           2\n",
       "Vehicle_Damage         object           2\n",
       "Response                int64           2"
      ]
     },
     "execution_count": 9,
     "metadata": {},
     "output_type": "execute_result"
    }
   ],
   "source": [
    "feature_info = {\n",
    "    'feature': [],\n",
    "    'dtype': [],\n",
    "    'unique_val': [],\n",
    "    }\n",
    "\n",
    "for col in train.columns:\n",
    "    feature_info['feature'].append(col)\n",
    "    feature_info['dtype'].append(train[col].dtype)\n",
    "    feature_info['unique_val'].append(len(train[col].unique()))\n",
    "\n",
    "# features' metadata dataframe\n",
    "features = pd.DataFrame(feature_info)\n",
    "features.set_index('feature', inplace=True)\n",
    "features = features.sort_values(by='unique_val', ascending=False)\n",
    "features"
   ]
  },
  {
   "cell_type": "code",
   "execution_count": 10,
   "id": "b41a500c",
   "metadata": {},
   "outputs": [],
   "source": [
    "# Seems to be nominal; highly problematic due to 54 unique values\n",
    "train.drop(columns=['Region_Code'], inplace=True)\n",
    "# Seems to be nominal; highly problematic due to 152 unique values\n",
    "train.drop(columns=['Policy_Sales_Channel'], inplace=True)\n",
    "# nominal feature\n",
    "train.Previously_Insured = train.Previously_Insured.astype(str)"
   ]
  },
  {
   "cell_type": "code",
   "execution_count": 11,
   "id": "32721010",
   "metadata": {},
   "outputs": [
    {
     "data": {
      "text/plain": [
       "0   0.500\n",
       "1   0.500\n",
       "Name: Response, dtype: float64"
      ]
     },
     "execution_count": 11,
     "metadata": {},
     "output_type": "execute_result"
    }
   ],
   "source": [
    "# rebalanced dataset sampling\n",
    "train_1 = train[train.Response==1]\n",
    "train_0 = train[train.Response==0].sample(train_1.shape[0], random_state=666)\n",
    "df_train = pd.concat([train_0, train_1])\n",
    "df_train.Response.value_counts(normalize=True)"
   ]
  },
  {
   "cell_type": "code",
   "execution_count": 12,
   "id": "eb56e412",
   "metadata": {},
   "outputs": [
    {
     "data": {
      "text/plain": [
       "(2830118, 8)"
      ]
     },
     "execution_count": 12,
     "metadata": {},
     "output_type": "execute_result"
    }
   ],
   "source": [
    "df_train.shape"
   ]
  },
  {
   "cell_type": "markdown",
   "id": "0ffa9fde",
   "metadata": {},
   "source": [
    "# 3) Significance tests"
   ]
  },
  {
   "cell_type": "code",
   "execution_count": 13,
   "id": "4b3b8ef0",
   "metadata": {},
   "outputs": [],
   "source": [
    "from sklearn.model_selection import train_test_split\n",
    "# train/test split\n",
    "y = df_train['Response']\n",
    "X = df_train.drop('Response', axis=1)\n",
    "X_train, X_test, y_train, y_test = train_test_split(X, y, test_size=0.2, random_state=0, stratify=df_train['Response'])\n",
    "df_train = pd.concat([X_train, y_train], axis=1)"
   ]
  },
  {
   "cell_type": "code",
   "execution_count": 16,
   "id": "8ebed1e3",
   "metadata": {},
   "outputs": [
    {
     "data": {
      "text/plain": [
       "(2264094, 8)"
      ]
     },
     "execution_count": 16,
     "metadata": {},
     "output_type": "execute_result"
    }
   ],
   "source": [
    "df_train.shape"
   ]
  },
  {
   "cell_type": "code",
   "execution_count": 17,
   "id": "7ce96b7c",
   "metadata": {},
   "outputs": [
    {
     "data": {
      "text/plain": [
       "Gender                 object\n",
       "Age                     int64\n",
       "Previously_Insured     object\n",
       "Vehicle_Age            object\n",
       "Vehicle_Damage         object\n",
       "Annual_Premium        float64\n",
       "Vintage                 int64\n",
       "dtype: object"
      ]
     },
     "execution_count": 17,
     "metadata": {},
     "output_type": "execute_result"
    }
   ],
   "source": [
    "X_train.dtypes"
   ]
  },
  {
   "cell_type": "code",
   "execution_count": 23,
   "id": "64bcfca3",
   "metadata": {},
   "outputs": [
    {
     "name": "stdout",
     "output_type": "stream",
     "text": [
      "CPU times: user 2.84 s, sys: 238 ms, total: 3.08 s\n",
      "Wall time: 3.06 s\n"
     ]
    }
   ],
   "source": [
    "%%time\n",
    "from scipy.stats import mannwhitneyu, chi2_contingency\n",
    "\n",
    "# numeric features testing\n",
    "for feature in X_train.select_dtypes(exclude='object').columns:\n",
    "    group_0 = df_train[df_train['Response']==0][feature]\n",
    "    group_1 = df_train[df_train['Response']==1][feature]\n",
    "    stat, p = mannwhitneyu(group_0, group_1, alternative='two-sided')\n",
    "    if p > 0.05:\n",
    "        print('Feature {} is statistically insignificant'.format(feature))\n",
    "        \n",
    "# nominal features testing\n",
    "for feature in X_train.select_dtypes(include='object').columns:\n",
    "    contingency_table = pd.crosstab(df_train[feature], df_train['Response'])\n",
    "    chi2_stat, p_val, dof, expected = chi2_contingency(contingency_table)\n",
    "    if p > 0.05:\n",
    "        print('Feature {} is statistically insignificant'.format(feature))"
   ]
  },
  {
   "cell_type": "markdown",
   "id": "c2e600e2",
   "metadata": {},
   "source": [
    "# 4) Preprocessing"
   ]
  },
  {
   "cell_type": "code",
   "execution_count": 24,
   "id": "8e7f862b",
   "metadata": {},
   "outputs": [
    {
     "data": {
      "text/html": [
       "<div>\n",
       "<style scoped>\n",
       "    .dataframe tbody tr th:only-of-type {\n",
       "        vertical-align: middle;\n",
       "    }\n",
       "\n",
       "    .dataframe tbody tr th {\n",
       "        vertical-align: top;\n",
       "    }\n",
       "\n",
       "    .dataframe thead th {\n",
       "        text-align: right;\n",
       "    }\n",
       "</style>\n",
       "<table border=\"1\" class=\"dataframe\">\n",
       "  <thead>\n",
       "    <tr style=\"text-align: right;\">\n",
       "      <th></th>\n",
       "      <th>0</th>\n",
       "      <th>1</th>\n",
       "      <th>2</th>\n",
       "      <th>3</th>\n",
       "      <th>4</th>\n",
       "      <th>5</th>\n",
       "      <th>6</th>\n",
       "      <th>7</th>\n",
       "    </tr>\n",
       "  </thead>\n",
       "  <tbody>\n",
       "    <tr>\n",
       "      <th>0</th>\n",
       "      <td>-0.377</td>\n",
       "      <td>0.078</td>\n",
       "      <td>0.633</td>\n",
       "      <td>0.000</td>\n",
       "      <td>1.000</td>\n",
       "      <td>1.000</td>\n",
       "      <td>0.000</td>\n",
       "      <td>0.000</td>\n",
       "    </tr>\n",
       "    <tr>\n",
       "      <th>1</th>\n",
       "      <td>1.337</td>\n",
       "      <td>0.141</td>\n",
       "      <td>0.768</td>\n",
       "      <td>1.000</td>\n",
       "      <td>0.000</td>\n",
       "      <td>0.000</td>\n",
       "      <td>0.000</td>\n",
       "      <td>1.000</td>\n",
       "    </tr>\n",
       "    <tr>\n",
       "      <th>2</th>\n",
       "      <td>0.007</td>\n",
       "      <td>0.406</td>\n",
       "      <td>0.872</td>\n",
       "      <td>0.000</td>\n",
       "      <td>0.000</td>\n",
       "      <td>0.000</td>\n",
       "      <td>0.000</td>\n",
       "      <td>1.000</td>\n",
       "    </tr>\n",
       "    <tr>\n",
       "      <th>3</th>\n",
       "      <td>-1.670</td>\n",
       "      <td>0.172</td>\n",
       "      <td>0.612</td>\n",
       "      <td>1.000</td>\n",
       "      <td>0.000</td>\n",
       "      <td>1.000</td>\n",
       "      <td>0.000</td>\n",
       "      <td>1.000</td>\n",
       "    </tr>\n",
       "    <tr>\n",
       "      <th>4</th>\n",
       "      <td>0.471</td>\n",
       "      <td>0.781</td>\n",
       "      <td>0.709</td>\n",
       "      <td>0.000</td>\n",
       "      <td>0.000</td>\n",
       "      <td>0.000</td>\n",
       "      <td>1.000</td>\n",
       "      <td>1.000</td>\n",
       "    </tr>\n",
       "    <tr>\n",
       "      <th>...</th>\n",
       "      <td>...</td>\n",
       "      <td>...</td>\n",
       "      <td>...</td>\n",
       "      <td>...</td>\n",
       "      <td>...</td>\n",
       "      <td>...</td>\n",
       "      <td>...</td>\n",
       "      <td>...</td>\n",
       "    </tr>\n",
       "    <tr>\n",
       "      <th>2264089</th>\n",
       "      <td>0.144</td>\n",
       "      <td>0.328</td>\n",
       "      <td>0.792</td>\n",
       "      <td>0.000</td>\n",
       "      <td>0.000</td>\n",
       "      <td>0.000</td>\n",
       "      <td>0.000</td>\n",
       "      <td>1.000</td>\n",
       "    </tr>\n",
       "    <tr>\n",
       "      <th>2264090</th>\n",
       "      <td>-0.099</td>\n",
       "      <td>0.047</td>\n",
       "      <td>0.343</td>\n",
       "      <td>1.000</td>\n",
       "      <td>0.000</td>\n",
       "      <td>1.000</td>\n",
       "      <td>0.000</td>\n",
       "      <td>1.000</td>\n",
       "    </tr>\n",
       "    <tr>\n",
       "      <th>2264091</th>\n",
       "      <td>0.222</td>\n",
       "      <td>0.406</td>\n",
       "      <td>0.606</td>\n",
       "      <td>0.000</td>\n",
       "      <td>0.000</td>\n",
       "      <td>0.000</td>\n",
       "      <td>0.000</td>\n",
       "      <td>1.000</td>\n",
       "    </tr>\n",
       "    <tr>\n",
       "      <th>2264092</th>\n",
       "      <td>0.584</td>\n",
       "      <td>0.297</td>\n",
       "      <td>0.536</td>\n",
       "      <td>1.000</td>\n",
       "      <td>0.000</td>\n",
       "      <td>0.000</td>\n",
       "      <td>0.000</td>\n",
       "      <td>1.000</td>\n",
       "    </tr>\n",
       "    <tr>\n",
       "      <th>2264093</th>\n",
       "      <td>0.061</td>\n",
       "      <td>0.547</td>\n",
       "      <td>0.858</td>\n",
       "      <td>1.000</td>\n",
       "      <td>0.000</td>\n",
       "      <td>0.000</td>\n",
       "      <td>1.000</td>\n",
       "      <td>1.000</td>\n",
       "    </tr>\n",
       "  </tbody>\n",
       "</table>\n",
       "<p>2264094 rows × 8 columns</p>\n",
       "</div>"
      ],
      "text/plain": [
       "             0     1     2     3     4     5     6     7\n",
       "0       -0.377 0.078 0.633 0.000 1.000 1.000 0.000 0.000\n",
       "1        1.337 0.141 0.768 1.000 0.000 0.000 0.000 1.000\n",
       "2        0.007 0.406 0.872 0.000 0.000 0.000 0.000 1.000\n",
       "3       -1.670 0.172 0.612 1.000 0.000 1.000 0.000 1.000\n",
       "4        0.471 0.781 0.709 0.000 0.000 0.000 1.000 1.000\n",
       "...        ...   ...   ...   ...   ...   ...   ...   ...\n",
       "2264089  0.144 0.328 0.792 0.000 0.000 0.000 0.000 1.000\n",
       "2264090 -0.099 0.047 0.343 1.000 0.000 1.000 0.000 1.000\n",
       "2264091  0.222 0.406 0.606 0.000 0.000 0.000 0.000 1.000\n",
       "2264092  0.584 0.297 0.536 1.000 0.000 0.000 0.000 1.000\n",
       "2264093  0.061 0.547 0.858 1.000 0.000 0.000 1.000 1.000\n",
       "\n",
       "[2264094 rows x 8 columns]"
      ]
     },
     "execution_count": 24,
     "metadata": {},
     "output_type": "execute_result"
    }
   ],
   "source": [
    "from sklearn.compose import make_column_transformer\n",
    "from sklearn.preprocessing import OneHotEncoder\n",
    "from sklearn.preprocessing import StandardScaler\n",
    "from sklearn.preprocessing import MinMaxScaler\n",
    "\n",
    "prep = make_column_transformer((StandardScaler(), X_train.select_dtypes(include='float64').columns), \n",
    "                               (MinMaxScaler(), X_train.select_dtypes(include='int64').columns),\n",
    "                               (OneHotEncoder(drop='first'), X_train.select_dtypes(include='object').columns))\n",
    "\n",
    "X_train_transformed = prep.fit_transform(X_train)\n",
    "X_train_transformed = pd.DataFrame(X_train_transformed)\n",
    "X_train_transformed"
   ]
  },
  {
   "cell_type": "markdown",
   "id": "9bb304a0",
   "metadata": {},
   "source": [
    "# 5) Deep Learning"
   ]
  },
  {
   "cell_type": "code",
   "execution_count": 25,
   "id": "5a09f229",
   "metadata": {},
   "outputs": [],
   "source": [
    "import tensorflow as tf\n",
    "from tensorflow.keras.models import Sequential\n",
    "from tensorflow.keras.layers import Dense, Dropout\n",
    "from tensorflow.keras.optimizers import Adam\n",
    "from tensorflow.keras.callbacks import EarlyStopping, ReduceLROnPlateau"
   ]
  },
  {
   "cell_type": "code",
   "execution_count": 26,
   "id": "b2b24c14",
   "metadata": {},
   "outputs": [],
   "source": [
    "# Neural network architecture\n",
    "model = Sequential([\n",
    "    Dense(512, input_shape=(8,), activation='relu'),\n",
    "    Dropout(0.4),\n",
    "    Dense(256, activation='relu'),\n",
    "    Dropout(0.4),\n",
    "    Dense(128, activation='relu'),\n",
    "    Dropout(0.4),\n",
    "    Dense(64, activation='relu'),\n",
    "    Dropout(0.4),\n",
    "    Dense(1, activation='sigmoid')\n",
    "])"
   ]
  },
  {
   "cell_type": "code",
   "execution_count": 27,
   "id": "0f1026c3",
   "metadata": {},
   "outputs": [
    {
     "name": "stdout",
     "output_type": "stream",
     "text": [
      "Epoch 1/25\n",
      "1990/1990 [==============================] - 18s 9ms/step - loss: 0.4314 - auc: 0.8424 - val_loss: 0.4261 - val_auc: 0.8495 - lr: 0.0010\n",
      "Epoch 2/25\n",
      "1990/1990 [==============================] - 17s 9ms/step - loss: 0.4266 - auc: 0.8469 - val_loss: 0.4245 - val_auc: 0.8502 - lr: 0.0010\n",
      "Epoch 3/25\n",
      "1990/1990 [==============================] - 17s 8ms/step - loss: 0.4259 - auc: 0.8480 - val_loss: 0.4237 - val_auc: 0.8506 - lr: 0.0010\n",
      "Epoch 4/25\n",
      "1990/1990 [==============================] - 16s 8ms/step - loss: 0.4256 - auc: 0.8485 - val_loss: 0.4237 - val_auc: 0.8506 - lr: 0.0010\n",
      "Epoch 5/25\n",
      "1990/1990 [==============================] - 16s 8ms/step - loss: 0.4255 - auc: 0.8490 - val_loss: 0.4238 - val_auc: 0.8510 - lr: 0.0010\n",
      "Epoch 6/25\n",
      "1990/1990 [==============================] - 16s 8ms/step - loss: 0.4252 - auc: 0.8494 - val_loss: 0.4236 - val_auc: 0.8511 - lr: 0.0010\n",
      "Epoch 7/25\n",
      "1990/1990 [==============================] - 16s 8ms/step - loss: 0.4250 - auc: 0.8496 - val_loss: 0.4234 - val_auc: 0.8517 - lr: 0.0010\n",
      "Epoch 8/25\n",
      "1990/1990 [==============================] - 16s 8ms/step - loss: 0.4249 - auc: 0.8497 - val_loss: 0.4233 - val_auc: 0.8517 - lr: 0.0010\n",
      "Epoch 9/25\n",
      "1990/1990 [==============================] - 16s 8ms/step - loss: 0.4248 - auc: 0.8500 - val_loss: 0.4232 - val_auc: 0.8516 - lr: 0.0010\n",
      "Epoch 10/25\n",
      "1990/1990 [==============================] - 16s 8ms/step - loss: 0.4248 - auc: 0.8500 - val_loss: 0.4230 - val_auc: 0.8523 - lr: 0.0010\n",
      "Epoch 11/25\n",
      "1990/1990 [==============================] - 16s 8ms/step - loss: 0.4246 - auc: 0.8500 - val_loss: 0.4229 - val_auc: 0.8521 - lr: 0.0010\n",
      "Epoch 12/25\n",
      "1990/1990 [==============================] - 16s 8ms/step - loss: 0.4246 - auc: 0.8502 - val_loss: 0.4228 - val_auc: 0.8523 - lr: 0.0010\n",
      "Epoch 13/25\n",
      "1990/1990 [==============================] - 16s 8ms/step - loss: 0.4245 - auc: 0.8504 - val_loss: 0.4227 - val_auc: 0.8520 - lr: 0.0010\n",
      "Epoch 14/25\n",
      "1990/1990 [==============================] - 16s 8ms/step - loss: 0.4244 - auc: 0.8505 - val_loss: 0.4232 - val_auc: 0.8519 - lr: 0.0010\n",
      "Epoch 15/25\n",
      "1990/1990 [==============================] - 16s 8ms/step - loss: 0.4245 - auc: 0.8506 - val_loss: 0.4231 - val_auc: 0.8521 - lr: 0.0010\n",
      "Epoch 16/25\n",
      "1990/1990 [==============================] - 16s 8ms/step - loss: 0.4244 - auc: 0.8506 - val_loss: 0.4228 - val_auc: 0.8522 - lr: 0.0010\n",
      "Epoch 17/25\n",
      "1990/1990 [==============================] - 16s 8ms/step - loss: 0.4243 - auc: 0.8506 - val_loss: 0.4227 - val_auc: 0.8522 - lr: 0.0010\n",
      "Epoch 18/25\n",
      "1990/1990 [==============================] - 16s 8ms/step - loss: 0.4244 - auc: 0.8506 - val_loss: 0.4234 - val_auc: 0.8521 - lr: 0.0010\n",
      "CPU times: user 16min 54s, sys: 20.2 s, total: 17min 14s\n",
      "Wall time: 4min 53s\n"
     ]
    }
   ],
   "source": [
    "%%time\n",
    "# compilation\n",
    "model.compile(optimizer=Adam(learning_rate=0.001), loss='binary_crossentropy', metrics=['AUC'])\n",
    "\n",
    "# callbacks\n",
    "early_stopping = EarlyStopping(monitor='val_loss', patience=5, restore_best_weights=True)\n",
    "reduce_lr = ReduceLROnPlateau(monitor='val_loss', factor=0.5, patience=5, min_lr=0.0000001)\n",
    "\n",
    "# backpropagation\n",
    "history = model.fit(\n",
    "    X_train_transformed, y_train,\n",
    "    epochs=25,\n",
    "    batch_size=1024,  \n",
    "    validation_split=0.1,\n",
    "    callbacks=[early_stopping, reduce_lr],\n",
    "    verbose=1\n",
    ")"
   ]
  },
  {
   "cell_type": "markdown",
   "id": "349effec",
   "metadata": {},
   "source": [
    "# 6) Evaluation"
   ]
  },
  {
   "cell_type": "code",
   "execution_count": 28,
   "id": "e46e319f",
   "metadata": {},
   "outputs": [
    {
     "name": "stdout",
     "output_type": "stream",
     "text": [
      "CPU times: user 18.9 s, sys: 736 ms, total: 19.6 s\n",
      "Wall time: 15.9 s\n"
     ]
    }
   ],
   "source": [
    "%%time\n",
    "y_pred = model.predict(pd.DataFrame(prep.fit_transform(X_test)), verbose=0)"
   ]
  },
  {
   "cell_type": "code",
   "execution_count": 35,
   "id": "6dc33a46",
   "metadata": {},
   "outputs": [
    {
     "name": "stdout",
     "output_type": "stream",
     "text": [
      "Sensitivity\n",
      "When the acutal value is positive, how often is the prediction correct?\n",
      "sensitivity: 0.93\n",
      "\n",
      "Specificity\n",
      "When the acutal value is negative, how often is the prediction correct?\n",
      "specificity: 0.669\n"
     ]
    }
   ],
   "source": [
    "from sklearn.metrics import confusion_matrix\n",
    "\n",
    "cm = confusion_matrix(y_test, np.where(y_pred>0.5,1,0))\n",
    "\n",
    "TP = cm[1,1]\n",
    "TN = cm[0,0]\n",
    "FP = cm[0,1]\n",
    "FN = cm[1,0]\n",
    "\n",
    "print('Sensitivity')\n",
    "print('When the acutal value is positive, how often is the prediction correct?')\n",
    "print('sensitivity: {}\\n'.format(round(TP/float(TP + FN), 3)))\n",
    "print('Specificity')\n",
    "print('When the acutal value is negative, how often is the prediction correct?')\n",
    "print('specificity: {}'.format(round(TN/float(TN + FP), 3)))"
   ]
  },
  {
   "cell_type": "code",
   "execution_count": 55,
   "id": "a7b42b45",
   "metadata": {},
   "outputs": [
    {
     "data": {
      "image/png": "[encoded data removed]",
      "text/plain": [
       "<Figure size 576x432 with 1 Axes>"
      ]
     },
     "metadata": {
      "needs_background": "light"
     },
     "output_type": "display_data"
    }
   ],
   "source": [
    "import matplotlib.pyplot as plt\n",
    "import seaborn as sns\n",
    "# Define labels for the confusion matrix\n",
    "labels = ['True Negative', 'False Positive', 'False Negative', 'True Positive']\n",
    "# Plot confusion matrix as a heatmap\n",
    "plt.figure(figsize=(8, 6))\n",
    "sns.heatmap(cm, annot=True, fmt='d', cmap='Blues', xticklabels=['Predicted 0', 'Predicted 1'], \n",
    "            yticklabels=['Actual 0', 'Actual 1'], cbar=False)\n",
    "plt.title('Confusion Matrix', fontsize=24)\n",
    "plt.xlabel('Predicted Label', fontsize=20)\n",
    "plt.ylabel('True Label', fontsize=20)\n",
    "plt.xticks(fontsize=18)\n",
    "plt.yticks(fontsize=18)\n",
    "plt.show()"
   ]
  },
  {
   "cell_type": "code",
   "execution_count": 40,
   "id": "46d68ad9",
   "metadata": {},
   "outputs": [
    {
     "data": {
      "image/png": "[encoded data removed]",
      "text/plain": [
       "<Figure size 432x288 with 1 Axes>"
      ]
     },
     "metadata": {
      "needs_background": "light"
     },
     "output_type": "display_data"
    }
   ],
   "source": [
    "from sklearn.metrics import roc_curve, auc\n",
    "# Compute the ROC curve\n",
    "fpr, tpr, thresholds = roc_curve(y_test, y_pred)\n",
    "\n",
    "# Calculate the AUC (Area Under the Curve)\n",
    "roc_auc = auc(fpr, tpr)\n",
    "\n",
    "# Plot the ROC curve\n",
    "plt.figure()\n",
    "plt.plot(fpr, tpr, color='blue', lw=2, label=f'ROC curve (area = {roc_auc:.4f})')\n",
    "plt.plot([0, 1], [0, 1], color='gray', lw=2, linestyle='--')  # Diagonal line\n",
    "plt.xlim([0.0, 1.0])\n",
    "plt.ylim([0.0, 1.05])\n",
    "plt.xlabel('False Positive Rate')\n",
    "plt.ylabel('True Positive Rate')\n",
    "plt.title('Receiver Operating Characteristic (ROC) Curve')\n",
    "plt.legend(loc=\"lower right\")\n",
    "\n",
    "# Plot the point at the default threshold of 0.5\n",
    "default_threshold_index = np.where(thresholds > 0.5)[0][-1]\n",
    "plt.plot(fpr[default_threshold_index], tpr[default_threshold_index], 'ro', label='Threshold = 0.5')\n",
    "plt.legend(loc=\"lower right\")\n",
    "\n",
    "plt.show()"
   ]
  },
  {
   "cell_type": "code",
   "execution_count": 41,
   "id": "89b4eb09",
   "metadata": {},
   "outputs": [
    {
     "name": "stdout",
     "output_type": "stream",
     "text": [
      "Model: \"sequential\"\n",
      "_________________________________________________________________\n",
      " Layer (type)                Output Shape              Param #   \n",
      "=================================================================\n",
      " dense (Dense)               (None, 512)               4608      \n",
      "                                                                 \n",
      " dropout (Dropout)           (None, 512)               0         \n",
      "                                                                 \n",
      " dense_1 (Dense)             (None, 256)               131328    \n",
      "                                                                 \n",
      " dropout_1 (Dropout)         (None, 256)               0         \n",
      "                                                                 \n",
      " dense_2 (Dense)             (None, 128)               32896     \n",
      "                                                                 \n",
      " dropout_2 (Dropout)         (None, 128)               0         \n",
      "                                                                 \n",
      " dense_3 (Dense)             (None, 64)                8256      \n",
      "                                                                 \n",
      " dropout_3 (Dropout)         (None, 64)                0         \n",
      "                                                                 \n",
      " dense_4 (Dense)             (None, 1)                 65        \n",
      "                                                                 \n",
      "=================================================================\n",
      "Total params: 177,153\n",
      "Trainable params: 177,153\n",
      "Non-trainable params: 0\n",
      "_________________________________________________________________\n"
     ]
    }
   ],
   "source": [
    "model.summary()"
   ]
  },
  {
   "cell_type": "markdown",
   "id": "f2d79db6",
   "metadata": {},
   "source": [
    "# Submission"
   ]
  },
  {
   "cell_type": "code",
   "execution_count": 42,
   "id": "75edd78d",
   "metadata": {},
   "outputs": [],
   "source": [
    "test = pd.read_csv('/home/petewojtczak/Desktop/auto_insurance_clf/test.csv')"
   ]
  },
  {
   "cell_type": "code",
   "execution_count": 48,
   "id": "3a836b2f",
   "metadata": {},
   "outputs": [],
   "source": [
    "test.set_index('id', inplace=True)\n",
    "test.drop(columns=['Driving_License'], inplace=True)\n",
    "test.drop(columns=['Region_Code'], inplace=True)\n",
    "test.drop(columns=['Policy_Sales_Channel'], inplace=True)"
   ]
  },
  {
   "cell_type": "code",
   "execution_count": 54,
   "id": "8cc7178c",
   "metadata": {},
   "outputs": [
    {
     "name": "stdout",
     "output_type": "stream",
     "text": [
      "CPU times: user 4min 2s, sys: 10.7 s, total: 4min 13s\n",
      "Wall time: 3min 25s\n"
     ]
    }
   ],
   "source": [
    "%%time\n",
    "y_hat = model.predict(pd.DataFrame(prep.fit_transform(test)), verbose=0)"
   ]
  },
  {
   "cell_type": "code",
   "execution_count": 76,
   "id": "4a730e76",
   "metadata": {},
   "outputs": [
    {
     "data": {
      "text/html": [
       "<div>\n",
       "<style scoped>\n",
       "    .dataframe tbody tr th:only-of-type {\n",
       "        vertical-align: middle;\n",
       "    }\n",
       "\n",
       "    .dataframe tbody tr th {\n",
       "        vertical-align: top;\n",
       "    }\n",
       "\n",
       "    .dataframe thead th {\n",
       "        text-align: right;\n",
       "    }\n",
       "</style>\n",
       "<table border=\"1\" class=\"dataframe\">\n",
       "  <thead>\n",
       "    <tr style=\"text-align: right;\">\n",
       "      <th></th>\n",
       "      <th>id</th>\n",
       "      <th>Response</th>\n",
       "    </tr>\n",
       "  </thead>\n",
       "  <tbody>\n",
       "    <tr>\n",
       "      <th>0</th>\n",
       "      <td>11504798</td>\n",
       "      <td>0.121</td>\n",
       "    </tr>\n",
       "    <tr>\n",
       "      <th>1</th>\n",
       "      <td>11504799</td>\n",
       "      <td>0.762</td>\n",
       "    </tr>\n",
       "    <tr>\n",
       "      <th>2</th>\n",
       "      <td>11504800</td>\n",
       "      <td>0.701</td>\n",
       "    </tr>\n",
       "    <tr>\n",
       "      <th>3</th>\n",
       "      <td>11504801</td>\n",
       "      <td>0.001</td>\n",
       "    </tr>\n",
       "    <tr>\n",
       "      <th>4</th>\n",
       "      <td>11504802</td>\n",
       "      <td>0.202</td>\n",
       "    </tr>\n",
       "    <tr>\n",
       "      <th>...</th>\n",
       "      <td>...</td>\n",
       "      <td>...</td>\n",
       "    </tr>\n",
       "    <tr>\n",
       "      <th>7669861</th>\n",
       "      <td>19174659</td>\n",
       "      <td>0.661</td>\n",
       "    </tr>\n",
       "    <tr>\n",
       "      <th>7669862</th>\n",
       "      <td>19174660</td>\n",
       "      <td>0.001</td>\n",
       "    </tr>\n",
       "    <tr>\n",
       "      <th>7669863</th>\n",
       "      <td>19174661</td>\n",
       "      <td>0.003</td>\n",
       "    </tr>\n",
       "    <tr>\n",
       "      <th>7669864</th>\n",
       "      <td>19174662</td>\n",
       "      <td>0.776</td>\n",
       "    </tr>\n",
       "    <tr>\n",
       "      <th>7669865</th>\n",
       "      <td>19174663</td>\n",
       "      <td>0.001</td>\n",
       "    </tr>\n",
       "  </tbody>\n",
       "</table>\n",
       "<p>7669866 rows × 2 columns</p>\n",
       "</div>"
      ],
      "text/plain": [
       "               id  Response\n",
       "0        11504798     0.121\n",
       "1        11504799     0.762\n",
       "2        11504800     0.701\n",
       "3        11504801     0.001\n",
       "4        11504802     0.202\n",
       "...           ...       ...\n",
       "7669861  19174659     0.661\n",
       "7669862  19174660     0.001\n",
       "7669863  19174661     0.003\n",
       "7669864  19174662     0.776\n",
       "7669865  19174663     0.001\n",
       "\n",
       "[7669866 rows x 2 columns]"
      ]
     },
     "execution_count": 76,
     "metadata": {},
     "output_type": "execute_result"
    }
   ],
   "source": [
    "submission = pd.DataFrame(test.reset_index().id).assign(Response=y_hat)\n",
    "submission"
   ]
  },
  {
   "cell_type": "code",
   "execution_count": 69,
   "id": "f096e000",
   "metadata": {},
   "outputs": [],
   "source": [
    "submission.to_csv('submission.csv', index=False)"
   ]
  },
  {
   "cell_type": "code",
   "execution_count": null,
   "id": "a46a040c",
   "metadata": {},
   "outputs": [],
   "source": []
  },
  {
   "cell_type": "code",
   "execution_count": null,
   "id": "0d9de722",
   "metadata": {},
   "outputs": [],
   "source": [
    "eval_df = y_test.assign(y_pred=y_pred, y_pred_binary=(y_pred >= 0.5).astype(int))"
   ]
  },
  {
   "cell_type": "code",
   "execution_count": 50,
   "id": "3a5f341a",
   "metadata": {
    "scrolled": true
   },
   "outputs": [
    {
     "data": {
      "text/html": [
       "<div>\n",
       "<style scoped>\n",
       "    .dataframe tbody tr th:only-of-type {\n",
       "        vertical-align: middle;\n",
       "    }\n",
       "\n",
       "    .dataframe tbody tr th {\n",
       "        vertical-align: top;\n",
       "    }\n",
       "\n",
       "    .dataframe thead th {\n",
       "        text-align: right;\n",
       "    }\n",
       "</style>\n",
       "<table border=\"1\" class=\"dataframe\">\n",
       "  <thead>\n",
       "    <tr style=\"text-align: right;\">\n",
       "      <th></th>\n",
       "      <th>Gender</th>\n",
       "      <th>Age</th>\n",
       "      <th>Previously_Insured</th>\n",
       "      <th>Vehicle_Age</th>\n",
       "      <th>Vehicle_Damage</th>\n",
       "      <th>Annual_Premium</th>\n",
       "      <th>Vintage</th>\n",
       "    </tr>\n",
       "    <tr>\n",
       "      <th>id</th>\n",
       "      <th></th>\n",
       "      <th></th>\n",
       "      <th></th>\n",
       "      <th></th>\n",
       "      <th></th>\n",
       "      <th></th>\n",
       "      <th></th>\n",
       "    </tr>\n",
       "  </thead>\n",
       "  <tbody>\n",
       "    <tr>\n",
       "      <th>1027097</th>\n",
       "      <td>Male</td>\n",
       "      <td>27</td>\n",
       "      <td>1</td>\n",
       "      <td>&lt; 1 Year</td>\n",
       "      <td>No</td>\n",
       "      <td>24918.000</td>\n",
       "      <td>56</td>\n",
       "    </tr>\n",
       "    <tr>\n",
       "      <th>10566622</th>\n",
       "      <td>Male</td>\n",
       "      <td>47</td>\n",
       "      <td>0</td>\n",
       "      <td>1-2 Year</td>\n",
       "      <td>Yes</td>\n",
       "      <td>37181.000</td>\n",
       "      <td>40</td>\n",
       "    </tr>\n",
       "    <tr>\n",
       "      <th>1809555</th>\n",
       "      <td>Female</td>\n",
       "      <td>43</td>\n",
       "      <td>0</td>\n",
       "      <td>1-2 Year</td>\n",
       "      <td>Yes</td>\n",
       "      <td>35255.000</td>\n",
       "      <td>123</td>\n",
       "    </tr>\n",
       "    <tr>\n",
       "      <th>7162903</th>\n",
       "      <td>Male</td>\n",
       "      <td>22</td>\n",
       "      <td>0</td>\n",
       "      <td>&lt; 1 Year</td>\n",
       "      <td>Yes</td>\n",
       "      <td>31517.000</td>\n",
       "      <td>256</td>\n",
       "    </tr>\n",
       "    <tr>\n",
       "      <th>2947126</th>\n",
       "      <td>Male</td>\n",
       "      <td>21</td>\n",
       "      <td>1</td>\n",
       "      <td>&lt; 1 Year</td>\n",
       "      <td>No</td>\n",
       "      <td>34782.000</td>\n",
       "      <td>158</td>\n",
       "    </tr>\n",
       "    <tr>\n",
       "      <th>...</th>\n",
       "      <td>...</td>\n",
       "      <td>...</td>\n",
       "      <td>...</td>\n",
       "      <td>...</td>\n",
       "      <td>...</td>\n",
       "      <td>...</td>\n",
       "      <td>...</td>\n",
       "    </tr>\n",
       "    <tr>\n",
       "      <th>4187156</th>\n",
       "      <td>Female</td>\n",
       "      <td>38</td>\n",
       "      <td>0</td>\n",
       "      <td>1-2 Year</td>\n",
       "      <td>Yes</td>\n",
       "      <td>32929.000</td>\n",
       "      <td>232</td>\n",
       "    </tr>\n",
       "    <tr>\n",
       "      <th>8105028</th>\n",
       "      <td>Male</td>\n",
       "      <td>32</td>\n",
       "      <td>0</td>\n",
       "      <td>1-2 Year</td>\n",
       "      <td>Yes</td>\n",
       "      <td>2630.000</td>\n",
       "      <td>206</td>\n",
       "    </tr>\n",
       "    <tr>\n",
       "      <th>2020224</th>\n",
       "      <td>Female</td>\n",
       "      <td>24</td>\n",
       "      <td>0</td>\n",
       "      <td>&lt; 1 Year</td>\n",
       "      <td>Yes</td>\n",
       "      <td>2630.000</td>\n",
       "      <td>241</td>\n",
       "    </tr>\n",
       "    <tr>\n",
       "      <th>4514900</th>\n",
       "      <td>Male</td>\n",
       "      <td>33</td>\n",
       "      <td>0</td>\n",
       "      <td>1-2 Year</td>\n",
       "      <td>Yes</td>\n",
       "      <td>38890.000</td>\n",
       "      <td>259</td>\n",
       "    </tr>\n",
       "    <tr>\n",
       "      <th>2813046</th>\n",
       "      <td>Male</td>\n",
       "      <td>55</td>\n",
       "      <td>0</td>\n",
       "      <td>1-2 Year</td>\n",
       "      <td>Yes</td>\n",
       "      <td>18059.000</td>\n",
       "      <td>270</td>\n",
       "    </tr>\n",
       "  </tbody>\n",
       "</table>\n",
       "<p>566024 rows × 7 columns</p>\n",
       "</div>"
      ],
      "text/plain": [
       "          Gender  Age Previously_Insured Vehicle_Age Vehicle_Damage  \\\n",
       "id                                                                    \n",
       "1027097     Male   27                  1    < 1 Year             No   \n",
       "10566622    Male   47                  0    1-2 Year            Yes   \n",
       "1809555   Female   43                  0    1-2 Year            Yes   \n",
       "7162903     Male   22                  0    < 1 Year            Yes   \n",
       "2947126     Male   21                  1    < 1 Year             No   \n",
       "...          ...  ...                ...         ...            ...   \n",
       "4187156   Female   38                  0    1-2 Year            Yes   \n",
       "8105028     Male   32                  0    1-2 Year            Yes   \n",
       "2020224   Female   24                  0    < 1 Year            Yes   \n",
       "4514900     Male   33                  0    1-2 Year            Yes   \n",
       "2813046     Male   55                  0    1-2 Year            Yes   \n",
       "\n",
       "          Annual_Premium  Vintage  \n",
       "id                                 \n",
       "1027097        24918.000       56  \n",
       "10566622       37181.000       40  \n",
       "1809555        35255.000      123  \n",
       "7162903        31517.000      256  \n",
       "2947126        34782.000      158  \n",
       "...                  ...      ...  \n",
       "4187156        32929.000      232  \n",
       "8105028         2630.000      206  \n",
       "2020224         2630.000      241  \n",
       "4514900        38890.000      259  \n",
       "2813046        18059.000      270  \n",
       "\n",
       "[566024 rows x 7 columns]"
      ]
     },
     "execution_count": 50,
     "metadata": {},
     "output_type": "execute_result"
    }
   ],
   "source": [
    "X_test"
   ]
  }
 ],
 "metadata": {
  "kernelspec": {
   "display_name": "Python 3",
   "language": "python",
   "name": "python3"
  },
  "language_info": {
   "codemirror_mode": {
    "name": "ipython",
    "version": 3
   },
   "file_extension": ".py",
   "mimetype": "text/x-python",
   "name": "python",
   "nbconvert_exporter": "python",
   "pygments_lexer": "ipython3",
   "version": "3.8.8"
  }
 },
 "nbformat": 4,
 "nbformat_minor": 5
}
